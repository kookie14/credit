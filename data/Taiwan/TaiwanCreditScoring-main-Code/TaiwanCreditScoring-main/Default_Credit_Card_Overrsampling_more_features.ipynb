{
  "nbformat": 4,
  "nbformat_minor": 0,
  "metadata": {
    "kernelspec": {
      "display_name": "Python 3",
      "language": "python",
      "name": "python3"
    },
    "language_info": {
      "codemirror_mode": {
        "name": "ipython",
        "version": 2
      },
      "file_extension": ".py",
      "mimetype": "text/x-python",
      "name": "python",
      "nbconvert_exporter": "python",
      "pygments_lexer": "ipython2",
      "version": "2.7.6"
    },
    "colab": {
      "name": "Default_Credit_Card_Overrsampling_more_features.ipynb",
      "provenance": [],
      "collapsed_sections": [],
      "toc_visible": true
    }
  },
  "cells": [
    {
      "cell_type": "markdown",
      "metadata": {
        "id": "fCqm5HltPRXx"
      },
      "source": [
        "# Import packages"
      ]
    },
    {
      "cell_type": "code",
      "metadata": {
        "collapsed": true,
        "id": "i3AxxojXNLNX"
      },
      "source": [
        "import numpy as np\n",
        "import pandas as pd\n",
        "import random\n",
        "from sklearn.utils import shuffle\n",
        "from sklearn.model_selection import train_test_split\n",
        "from sklearn.metrics import accuracy_score\n",
        "from sklearn.metrics import confusion_matrix\n",
        "from sklearn.linear_model import LogisticRegression\n",
        "from sklearn.svm import SVC\n",
        "from sklearn.ensemble import RandomForestClassifier\n",
        "from sklearn.ensemble import GradientBoostingClassifier, AdaBoostClassifier\n",
        "from sklearn.tree import DecisionTreeClassifier\n",
        "from xgboost import XGBClassifier\n",
        "from sklearn.ensemble import VotingClassifier, BaggingClassifier\n",
        "from sklearn.model_selection import RandomizedSearchCV\n",
        "from sklearn.metrics import f1_score\n",
        "from sklearn.metrics import auc, roc_curve\n",
        "from sklearn.metrics import classification_report\n",
        "random.seed(42)\n",
        "np.random.seed(42)"
      ],
      "execution_count": 1,
      "outputs": []
    },
    {
      "cell_type": "code",
      "metadata": {
        "id": "q3BfFIZwNSAO"
      },
      "source": [
        "# !pip install xgboost\n",
        "# !pip install catboost"
      ],
      "execution_count": 2,
      "outputs": []
    },
    {
      "cell_type": "code",
      "metadata": {
        "pycharm": {
          "name": "#%%\n"
        },
        "id": "OaNAhqmsNLNY"
      },
      "source": [
        "df = pd.read_excel('default of credit card clients.xls')"
      ],
      "execution_count": 3,
      "outputs": []
    },
    {
      "cell_type": "code",
      "metadata": {
        "colab": {
          "base_uri": "https://localhost:8080/",
          "height": 272
        },
        "id": "pcIv6X9zN87F",
        "outputId": "e1b08369-502d-441b-bbf0-a1e4c12ca7fd"
      },
      "source": [
        "df.head()"
      ],
      "execution_count": 4,
      "outputs": [
        {
          "output_type": "execute_result",
          "data": {
            "text/html": [
              "<div>\n",
              "<style scoped>\n",
              "    .dataframe tbody tr th:only-of-type {\n",
              "        vertical-align: middle;\n",
              "    }\n",
              "\n",
              "    .dataframe tbody tr th {\n",
              "        vertical-align: top;\n",
              "    }\n",
              "\n",
              "    .dataframe thead th {\n",
              "        text-align: right;\n",
              "    }\n",
              "</style>\n",
              "<table border=\"1\" class=\"dataframe\">\n",
              "  <thead>\n",
              "    <tr style=\"text-align: right;\">\n",
              "      <th></th>\n",
              "      <th>ID</th>\n",
              "      <th>LIMIT_BAL</th>\n",
              "      <th>SEX</th>\n",
              "      <th>EDUCATION</th>\n",
              "      <th>MARRIAGE</th>\n",
              "      <th>AGE</th>\n",
              "      <th>PAY_0</th>\n",
              "      <th>PAY_2</th>\n",
              "      <th>PAY_3</th>\n",
              "      <th>PAY_4</th>\n",
              "      <th>PAY_5</th>\n",
              "      <th>PAY_6</th>\n",
              "      <th>BILL_AMT1</th>\n",
              "      <th>BILL_AMT2</th>\n",
              "      <th>BILL_AMT3</th>\n",
              "      <th>BILL_AMT4</th>\n",
              "      <th>BILL_AMT5</th>\n",
              "      <th>BILL_AMT6</th>\n",
              "      <th>PAY_AMT1</th>\n",
              "      <th>PAY_AMT2</th>\n",
              "      <th>PAY_AMT3</th>\n",
              "      <th>PAY_AMT4</th>\n",
              "      <th>PAY_AMT5</th>\n",
              "      <th>PAY_AMT6</th>\n",
              "      <th>default payment next month</th>\n",
              "    </tr>\n",
              "  </thead>\n",
              "  <tbody>\n",
              "    <tr>\n",
              "      <th>0</th>\n",
              "      <td>1</td>\n",
              "      <td>20000</td>\n",
              "      <td>2</td>\n",
              "      <td>2</td>\n",
              "      <td>1</td>\n",
              "      <td>24</td>\n",
              "      <td>2</td>\n",
              "      <td>2</td>\n",
              "      <td>-1</td>\n",
              "      <td>-1</td>\n",
              "      <td>-2</td>\n",
              "      <td>-2</td>\n",
              "      <td>3913</td>\n",
              "      <td>3102</td>\n",
              "      <td>689</td>\n",
              "      <td>0</td>\n",
              "      <td>0</td>\n",
              "      <td>0</td>\n",
              "      <td>0</td>\n",
              "      <td>689</td>\n",
              "      <td>0</td>\n",
              "      <td>0</td>\n",
              "      <td>0</td>\n",
              "      <td>0</td>\n",
              "      <td>1</td>\n",
              "    </tr>\n",
              "    <tr>\n",
              "      <th>1</th>\n",
              "      <td>2</td>\n",
              "      <td>120000</td>\n",
              "      <td>2</td>\n",
              "      <td>2</td>\n",
              "      <td>2</td>\n",
              "      <td>26</td>\n",
              "      <td>-1</td>\n",
              "      <td>2</td>\n",
              "      <td>0</td>\n",
              "      <td>0</td>\n",
              "      <td>0</td>\n",
              "      <td>2</td>\n",
              "      <td>2682</td>\n",
              "      <td>1725</td>\n",
              "      <td>2682</td>\n",
              "      <td>3272</td>\n",
              "      <td>3455</td>\n",
              "      <td>3261</td>\n",
              "      <td>0</td>\n",
              "      <td>1000</td>\n",
              "      <td>1000</td>\n",
              "      <td>1000</td>\n",
              "      <td>0</td>\n",
              "      <td>2000</td>\n",
              "      <td>1</td>\n",
              "    </tr>\n",
              "    <tr>\n",
              "      <th>2</th>\n",
              "      <td>3</td>\n",
              "      <td>90000</td>\n",
              "      <td>2</td>\n",
              "      <td>2</td>\n",
              "      <td>2</td>\n",
              "      <td>34</td>\n",
              "      <td>0</td>\n",
              "      <td>0</td>\n",
              "      <td>0</td>\n",
              "      <td>0</td>\n",
              "      <td>0</td>\n",
              "      <td>0</td>\n",
              "      <td>29239</td>\n",
              "      <td>14027</td>\n",
              "      <td>13559</td>\n",
              "      <td>14331</td>\n",
              "      <td>14948</td>\n",
              "      <td>15549</td>\n",
              "      <td>1518</td>\n",
              "      <td>1500</td>\n",
              "      <td>1000</td>\n",
              "      <td>1000</td>\n",
              "      <td>1000</td>\n",
              "      <td>5000</td>\n",
              "      <td>0</td>\n",
              "    </tr>\n",
              "    <tr>\n",
              "      <th>3</th>\n",
              "      <td>4</td>\n",
              "      <td>50000</td>\n",
              "      <td>2</td>\n",
              "      <td>2</td>\n",
              "      <td>1</td>\n",
              "      <td>37</td>\n",
              "      <td>0</td>\n",
              "      <td>0</td>\n",
              "      <td>0</td>\n",
              "      <td>0</td>\n",
              "      <td>0</td>\n",
              "      <td>0</td>\n",
              "      <td>46990</td>\n",
              "      <td>48233</td>\n",
              "      <td>49291</td>\n",
              "      <td>28314</td>\n",
              "      <td>28959</td>\n",
              "      <td>29547</td>\n",
              "      <td>2000</td>\n",
              "      <td>2019</td>\n",
              "      <td>1200</td>\n",
              "      <td>1100</td>\n",
              "      <td>1069</td>\n",
              "      <td>1000</td>\n",
              "      <td>0</td>\n",
              "    </tr>\n",
              "    <tr>\n",
              "      <th>4</th>\n",
              "      <td>5</td>\n",
              "      <td>50000</td>\n",
              "      <td>1</td>\n",
              "      <td>2</td>\n",
              "      <td>1</td>\n",
              "      <td>57</td>\n",
              "      <td>-1</td>\n",
              "      <td>0</td>\n",
              "      <td>-1</td>\n",
              "      <td>0</td>\n",
              "      <td>0</td>\n",
              "      <td>0</td>\n",
              "      <td>8617</td>\n",
              "      <td>5670</td>\n",
              "      <td>35835</td>\n",
              "      <td>20940</td>\n",
              "      <td>19146</td>\n",
              "      <td>19131</td>\n",
              "      <td>2000</td>\n",
              "      <td>36681</td>\n",
              "      <td>10000</td>\n",
              "      <td>9000</td>\n",
              "      <td>689</td>\n",
              "      <td>679</td>\n",
              "      <td>0</td>\n",
              "    </tr>\n",
              "  </tbody>\n",
              "</table>\n",
              "</div>"
            ],
            "text/plain": [
              "   ID  LIMIT_BAL  SEX  ...  PAY_AMT5  PAY_AMT6  default payment next month\n",
              "0   1      20000    2  ...         0         0                           1\n",
              "1   2     120000    2  ...         0      2000                           1\n",
              "2   3      90000    2  ...      1000      5000                           0\n",
              "3   4      50000    2  ...      1069      1000                           0\n",
              "4   5      50000    1  ...       689       679                           0\n",
              "\n",
              "[5 rows x 25 columns]"
            ]
          },
          "metadata": {
            "tags": []
          },
          "execution_count": 4
        }
      ]
    },
    {
      "cell_type": "code",
      "metadata": {
        "colab": {
          "base_uri": "https://localhost:8080/",
          "height": 347
        },
        "id": "-XP9dszaN-T3",
        "outputId": "4f04ef9b-83e5-4ae7-ed7e-ec30c8bbe3cc"
      },
      "source": [
        "df.describe()"
      ],
      "execution_count": 5,
      "outputs": [
        {
          "output_type": "execute_result",
          "data": {
            "text/html": [
              "<div>\n",
              "<style scoped>\n",
              "    .dataframe tbody tr th:only-of-type {\n",
              "        vertical-align: middle;\n",
              "    }\n",
              "\n",
              "    .dataframe tbody tr th {\n",
              "        vertical-align: top;\n",
              "    }\n",
              "\n",
              "    .dataframe thead th {\n",
              "        text-align: right;\n",
              "    }\n",
              "</style>\n",
              "<table border=\"1\" class=\"dataframe\">\n",
              "  <thead>\n",
              "    <tr style=\"text-align: right;\">\n",
              "      <th></th>\n",
              "      <th>ID</th>\n",
              "      <th>LIMIT_BAL</th>\n",
              "      <th>SEX</th>\n",
              "      <th>EDUCATION</th>\n",
              "      <th>MARRIAGE</th>\n",
              "      <th>AGE</th>\n",
              "      <th>PAY_0</th>\n",
              "      <th>PAY_2</th>\n",
              "      <th>PAY_3</th>\n",
              "      <th>PAY_4</th>\n",
              "      <th>PAY_5</th>\n",
              "      <th>PAY_6</th>\n",
              "      <th>BILL_AMT1</th>\n",
              "      <th>BILL_AMT2</th>\n",
              "      <th>BILL_AMT3</th>\n",
              "      <th>BILL_AMT4</th>\n",
              "      <th>BILL_AMT5</th>\n",
              "      <th>BILL_AMT6</th>\n",
              "      <th>PAY_AMT1</th>\n",
              "      <th>PAY_AMT2</th>\n",
              "      <th>PAY_AMT3</th>\n",
              "      <th>PAY_AMT4</th>\n",
              "      <th>PAY_AMT5</th>\n",
              "      <th>PAY_AMT6</th>\n",
              "      <th>default payment next month</th>\n",
              "    </tr>\n",
              "  </thead>\n",
              "  <tbody>\n",
              "    <tr>\n",
              "      <th>count</th>\n",
              "      <td>30000.000000</td>\n",
              "      <td>30000.000000</td>\n",
              "      <td>30000.000000</td>\n",
              "      <td>30000.000000</td>\n",
              "      <td>30000.000000</td>\n",
              "      <td>30000.000000</td>\n",
              "      <td>30000.000000</td>\n",
              "      <td>30000.000000</td>\n",
              "      <td>30000.000000</td>\n",
              "      <td>30000.000000</td>\n",
              "      <td>30000.000000</td>\n",
              "      <td>30000.000000</td>\n",
              "      <td>30000.000000</td>\n",
              "      <td>30000.000000</td>\n",
              "      <td>3.000000e+04</td>\n",
              "      <td>30000.000000</td>\n",
              "      <td>30000.000000</td>\n",
              "      <td>30000.000000</td>\n",
              "      <td>30000.000000</td>\n",
              "      <td>3.000000e+04</td>\n",
              "      <td>30000.00000</td>\n",
              "      <td>30000.000000</td>\n",
              "      <td>30000.000000</td>\n",
              "      <td>30000.000000</td>\n",
              "      <td>30000.000000</td>\n",
              "    </tr>\n",
              "    <tr>\n",
              "      <th>mean</th>\n",
              "      <td>15000.500000</td>\n",
              "      <td>167484.322667</td>\n",
              "      <td>1.603733</td>\n",
              "      <td>1.853133</td>\n",
              "      <td>1.551867</td>\n",
              "      <td>35.485500</td>\n",
              "      <td>-0.016700</td>\n",
              "      <td>-0.133767</td>\n",
              "      <td>-0.166200</td>\n",
              "      <td>-0.220667</td>\n",
              "      <td>-0.266200</td>\n",
              "      <td>-0.291100</td>\n",
              "      <td>51223.330900</td>\n",
              "      <td>49179.075167</td>\n",
              "      <td>4.701315e+04</td>\n",
              "      <td>43262.948967</td>\n",
              "      <td>40311.400967</td>\n",
              "      <td>38871.760400</td>\n",
              "      <td>5663.580500</td>\n",
              "      <td>5.921163e+03</td>\n",
              "      <td>5225.68150</td>\n",
              "      <td>4826.076867</td>\n",
              "      <td>4799.387633</td>\n",
              "      <td>5215.502567</td>\n",
              "      <td>0.221200</td>\n",
              "    </tr>\n",
              "    <tr>\n",
              "      <th>std</th>\n",
              "      <td>8660.398374</td>\n",
              "      <td>129747.661567</td>\n",
              "      <td>0.489129</td>\n",
              "      <td>0.790349</td>\n",
              "      <td>0.521970</td>\n",
              "      <td>9.217904</td>\n",
              "      <td>1.123802</td>\n",
              "      <td>1.197186</td>\n",
              "      <td>1.196868</td>\n",
              "      <td>1.169139</td>\n",
              "      <td>1.133187</td>\n",
              "      <td>1.149988</td>\n",
              "      <td>73635.860576</td>\n",
              "      <td>71173.768783</td>\n",
              "      <td>6.934939e+04</td>\n",
              "      <td>64332.856134</td>\n",
              "      <td>60797.155770</td>\n",
              "      <td>59554.107537</td>\n",
              "      <td>16563.280354</td>\n",
              "      <td>2.304087e+04</td>\n",
              "      <td>17606.96147</td>\n",
              "      <td>15666.159744</td>\n",
              "      <td>15278.305679</td>\n",
              "      <td>17777.465775</td>\n",
              "      <td>0.415062</td>\n",
              "    </tr>\n",
              "    <tr>\n",
              "      <th>min</th>\n",
              "      <td>1.000000</td>\n",
              "      <td>10000.000000</td>\n",
              "      <td>1.000000</td>\n",
              "      <td>0.000000</td>\n",
              "      <td>0.000000</td>\n",
              "      <td>21.000000</td>\n",
              "      <td>-2.000000</td>\n",
              "      <td>-2.000000</td>\n",
              "      <td>-2.000000</td>\n",
              "      <td>-2.000000</td>\n",
              "      <td>-2.000000</td>\n",
              "      <td>-2.000000</td>\n",
              "      <td>-165580.000000</td>\n",
              "      <td>-69777.000000</td>\n",
              "      <td>-1.572640e+05</td>\n",
              "      <td>-170000.000000</td>\n",
              "      <td>-81334.000000</td>\n",
              "      <td>-339603.000000</td>\n",
              "      <td>0.000000</td>\n",
              "      <td>0.000000e+00</td>\n",
              "      <td>0.00000</td>\n",
              "      <td>0.000000</td>\n",
              "      <td>0.000000</td>\n",
              "      <td>0.000000</td>\n",
              "      <td>0.000000</td>\n",
              "    </tr>\n",
              "    <tr>\n",
              "      <th>25%</th>\n",
              "      <td>7500.750000</td>\n",
              "      <td>50000.000000</td>\n",
              "      <td>1.000000</td>\n",
              "      <td>1.000000</td>\n",
              "      <td>1.000000</td>\n",
              "      <td>28.000000</td>\n",
              "      <td>-1.000000</td>\n",
              "      <td>-1.000000</td>\n",
              "      <td>-1.000000</td>\n",
              "      <td>-1.000000</td>\n",
              "      <td>-1.000000</td>\n",
              "      <td>-1.000000</td>\n",
              "      <td>3558.750000</td>\n",
              "      <td>2984.750000</td>\n",
              "      <td>2.666250e+03</td>\n",
              "      <td>2326.750000</td>\n",
              "      <td>1763.000000</td>\n",
              "      <td>1256.000000</td>\n",
              "      <td>1000.000000</td>\n",
              "      <td>8.330000e+02</td>\n",
              "      <td>390.00000</td>\n",
              "      <td>296.000000</td>\n",
              "      <td>252.500000</td>\n",
              "      <td>117.750000</td>\n",
              "      <td>0.000000</td>\n",
              "    </tr>\n",
              "    <tr>\n",
              "      <th>50%</th>\n",
              "      <td>15000.500000</td>\n",
              "      <td>140000.000000</td>\n",
              "      <td>2.000000</td>\n",
              "      <td>2.000000</td>\n",
              "      <td>2.000000</td>\n",
              "      <td>34.000000</td>\n",
              "      <td>0.000000</td>\n",
              "      <td>0.000000</td>\n",
              "      <td>0.000000</td>\n",
              "      <td>0.000000</td>\n",
              "      <td>0.000000</td>\n",
              "      <td>0.000000</td>\n",
              "      <td>22381.500000</td>\n",
              "      <td>21200.000000</td>\n",
              "      <td>2.008850e+04</td>\n",
              "      <td>19052.000000</td>\n",
              "      <td>18104.500000</td>\n",
              "      <td>17071.000000</td>\n",
              "      <td>2100.000000</td>\n",
              "      <td>2.009000e+03</td>\n",
              "      <td>1800.00000</td>\n",
              "      <td>1500.000000</td>\n",
              "      <td>1500.000000</td>\n",
              "      <td>1500.000000</td>\n",
              "      <td>0.000000</td>\n",
              "    </tr>\n",
              "    <tr>\n",
              "      <th>75%</th>\n",
              "      <td>22500.250000</td>\n",
              "      <td>240000.000000</td>\n",
              "      <td>2.000000</td>\n",
              "      <td>2.000000</td>\n",
              "      <td>2.000000</td>\n",
              "      <td>41.000000</td>\n",
              "      <td>0.000000</td>\n",
              "      <td>0.000000</td>\n",
              "      <td>0.000000</td>\n",
              "      <td>0.000000</td>\n",
              "      <td>0.000000</td>\n",
              "      <td>0.000000</td>\n",
              "      <td>67091.000000</td>\n",
              "      <td>64006.250000</td>\n",
              "      <td>6.016475e+04</td>\n",
              "      <td>54506.000000</td>\n",
              "      <td>50190.500000</td>\n",
              "      <td>49198.250000</td>\n",
              "      <td>5006.000000</td>\n",
              "      <td>5.000000e+03</td>\n",
              "      <td>4505.00000</td>\n",
              "      <td>4013.250000</td>\n",
              "      <td>4031.500000</td>\n",
              "      <td>4000.000000</td>\n",
              "      <td>0.000000</td>\n",
              "    </tr>\n",
              "    <tr>\n",
              "      <th>max</th>\n",
              "      <td>30000.000000</td>\n",
              "      <td>1000000.000000</td>\n",
              "      <td>2.000000</td>\n",
              "      <td>6.000000</td>\n",
              "      <td>3.000000</td>\n",
              "      <td>79.000000</td>\n",
              "      <td>8.000000</td>\n",
              "      <td>8.000000</td>\n",
              "      <td>8.000000</td>\n",
              "      <td>8.000000</td>\n",
              "      <td>8.000000</td>\n",
              "      <td>8.000000</td>\n",
              "      <td>964511.000000</td>\n",
              "      <td>983931.000000</td>\n",
              "      <td>1.664089e+06</td>\n",
              "      <td>891586.000000</td>\n",
              "      <td>927171.000000</td>\n",
              "      <td>961664.000000</td>\n",
              "      <td>873552.000000</td>\n",
              "      <td>1.684259e+06</td>\n",
              "      <td>896040.00000</td>\n",
              "      <td>621000.000000</td>\n",
              "      <td>426529.000000</td>\n",
              "      <td>528666.000000</td>\n",
              "      <td>1.000000</td>\n",
              "    </tr>\n",
              "  </tbody>\n",
              "</table>\n",
              "</div>"
            ],
            "text/plain": [
              "                 ID       LIMIT_BAL  ...       PAY_AMT6  default payment next month\n",
              "count  30000.000000    30000.000000  ...   30000.000000                30000.000000\n",
              "mean   15000.500000   167484.322667  ...    5215.502567                    0.221200\n",
              "std     8660.398374   129747.661567  ...   17777.465775                    0.415062\n",
              "min        1.000000    10000.000000  ...       0.000000                    0.000000\n",
              "25%     7500.750000    50000.000000  ...     117.750000                    0.000000\n",
              "50%    15000.500000   140000.000000  ...    1500.000000                    0.000000\n",
              "75%    22500.250000   240000.000000  ...    4000.000000                    0.000000\n",
              "max    30000.000000  1000000.000000  ...  528666.000000                    1.000000\n",
              "\n",
              "[8 rows x 25 columns]"
            ]
          },
          "metadata": {
            "tags": []
          },
          "execution_count": 5
        }
      ]
    },
    {
      "cell_type": "markdown",
      "metadata": {
        "id": "z-PKH2boVCtC"
      },
      "source": [
        "# Exploring dataset"
      ]
    },
    {
      "cell_type": "code",
      "metadata": {
        "colab": {
          "base_uri": "https://localhost:8080/",
          "height": 222
        },
        "id": "wXEi1PHbJJ-H",
        "outputId": "7e90ffe5-ac68-44fb-f933-62bc4efb92ca"
      },
      "source": [
        "df = df.rename(columns={'default payment next month': 'def_pay', \n",
        "                        'PAY_0': 'PAY_1'})\n",
        "df.head()"
      ],
      "execution_count": 6,
      "outputs": [
        {
          "output_type": "execute_result",
          "data": {
            "text/html": [
              "<div>\n",
              "<style scoped>\n",
              "    .dataframe tbody tr th:only-of-type {\n",
              "        vertical-align: middle;\n",
              "    }\n",
              "\n",
              "    .dataframe tbody tr th {\n",
              "        vertical-align: top;\n",
              "    }\n",
              "\n",
              "    .dataframe thead th {\n",
              "        text-align: right;\n",
              "    }\n",
              "</style>\n",
              "<table border=\"1\" class=\"dataframe\">\n",
              "  <thead>\n",
              "    <tr style=\"text-align: right;\">\n",
              "      <th></th>\n",
              "      <th>ID</th>\n",
              "      <th>LIMIT_BAL</th>\n",
              "      <th>SEX</th>\n",
              "      <th>EDUCATION</th>\n",
              "      <th>MARRIAGE</th>\n",
              "      <th>AGE</th>\n",
              "      <th>PAY_1</th>\n",
              "      <th>PAY_2</th>\n",
              "      <th>PAY_3</th>\n",
              "      <th>PAY_4</th>\n",
              "      <th>PAY_5</th>\n",
              "      <th>PAY_6</th>\n",
              "      <th>BILL_AMT1</th>\n",
              "      <th>BILL_AMT2</th>\n",
              "      <th>BILL_AMT3</th>\n",
              "      <th>BILL_AMT4</th>\n",
              "      <th>BILL_AMT5</th>\n",
              "      <th>BILL_AMT6</th>\n",
              "      <th>PAY_AMT1</th>\n",
              "      <th>PAY_AMT2</th>\n",
              "      <th>PAY_AMT3</th>\n",
              "      <th>PAY_AMT4</th>\n",
              "      <th>PAY_AMT5</th>\n",
              "      <th>PAY_AMT6</th>\n",
              "      <th>def_pay</th>\n",
              "    </tr>\n",
              "  </thead>\n",
              "  <tbody>\n",
              "    <tr>\n",
              "      <th>0</th>\n",
              "      <td>1</td>\n",
              "      <td>20000</td>\n",
              "      <td>2</td>\n",
              "      <td>2</td>\n",
              "      <td>1</td>\n",
              "      <td>24</td>\n",
              "      <td>2</td>\n",
              "      <td>2</td>\n",
              "      <td>-1</td>\n",
              "      <td>-1</td>\n",
              "      <td>-2</td>\n",
              "      <td>-2</td>\n",
              "      <td>3913</td>\n",
              "      <td>3102</td>\n",
              "      <td>689</td>\n",
              "      <td>0</td>\n",
              "      <td>0</td>\n",
              "      <td>0</td>\n",
              "      <td>0</td>\n",
              "      <td>689</td>\n",
              "      <td>0</td>\n",
              "      <td>0</td>\n",
              "      <td>0</td>\n",
              "      <td>0</td>\n",
              "      <td>1</td>\n",
              "    </tr>\n",
              "    <tr>\n",
              "      <th>1</th>\n",
              "      <td>2</td>\n",
              "      <td>120000</td>\n",
              "      <td>2</td>\n",
              "      <td>2</td>\n",
              "      <td>2</td>\n",
              "      <td>26</td>\n",
              "      <td>-1</td>\n",
              "      <td>2</td>\n",
              "      <td>0</td>\n",
              "      <td>0</td>\n",
              "      <td>0</td>\n",
              "      <td>2</td>\n",
              "      <td>2682</td>\n",
              "      <td>1725</td>\n",
              "      <td>2682</td>\n",
              "      <td>3272</td>\n",
              "      <td>3455</td>\n",
              "      <td>3261</td>\n",
              "      <td>0</td>\n",
              "      <td>1000</td>\n",
              "      <td>1000</td>\n",
              "      <td>1000</td>\n",
              "      <td>0</td>\n",
              "      <td>2000</td>\n",
              "      <td>1</td>\n",
              "    </tr>\n",
              "    <tr>\n",
              "      <th>2</th>\n",
              "      <td>3</td>\n",
              "      <td>90000</td>\n",
              "      <td>2</td>\n",
              "      <td>2</td>\n",
              "      <td>2</td>\n",
              "      <td>34</td>\n",
              "      <td>0</td>\n",
              "      <td>0</td>\n",
              "      <td>0</td>\n",
              "      <td>0</td>\n",
              "      <td>0</td>\n",
              "      <td>0</td>\n",
              "      <td>29239</td>\n",
              "      <td>14027</td>\n",
              "      <td>13559</td>\n",
              "      <td>14331</td>\n",
              "      <td>14948</td>\n",
              "      <td>15549</td>\n",
              "      <td>1518</td>\n",
              "      <td>1500</td>\n",
              "      <td>1000</td>\n",
              "      <td>1000</td>\n",
              "      <td>1000</td>\n",
              "      <td>5000</td>\n",
              "      <td>0</td>\n",
              "    </tr>\n",
              "    <tr>\n",
              "      <th>3</th>\n",
              "      <td>4</td>\n",
              "      <td>50000</td>\n",
              "      <td>2</td>\n",
              "      <td>2</td>\n",
              "      <td>1</td>\n",
              "      <td>37</td>\n",
              "      <td>0</td>\n",
              "      <td>0</td>\n",
              "      <td>0</td>\n",
              "      <td>0</td>\n",
              "      <td>0</td>\n",
              "      <td>0</td>\n",
              "      <td>46990</td>\n",
              "      <td>48233</td>\n",
              "      <td>49291</td>\n",
              "      <td>28314</td>\n",
              "      <td>28959</td>\n",
              "      <td>29547</td>\n",
              "      <td>2000</td>\n",
              "      <td>2019</td>\n",
              "      <td>1200</td>\n",
              "      <td>1100</td>\n",
              "      <td>1069</td>\n",
              "      <td>1000</td>\n",
              "      <td>0</td>\n",
              "    </tr>\n",
              "    <tr>\n",
              "      <th>4</th>\n",
              "      <td>5</td>\n",
              "      <td>50000</td>\n",
              "      <td>1</td>\n",
              "      <td>2</td>\n",
              "      <td>1</td>\n",
              "      <td>57</td>\n",
              "      <td>-1</td>\n",
              "      <td>0</td>\n",
              "      <td>-1</td>\n",
              "      <td>0</td>\n",
              "      <td>0</td>\n",
              "      <td>0</td>\n",
              "      <td>8617</td>\n",
              "      <td>5670</td>\n",
              "      <td>35835</td>\n",
              "      <td>20940</td>\n",
              "      <td>19146</td>\n",
              "      <td>19131</td>\n",
              "      <td>2000</td>\n",
              "      <td>36681</td>\n",
              "      <td>10000</td>\n",
              "      <td>9000</td>\n",
              "      <td>689</td>\n",
              "      <td>679</td>\n",
              "      <td>0</td>\n",
              "    </tr>\n",
              "  </tbody>\n",
              "</table>\n",
              "</div>"
            ],
            "text/plain": [
              "   ID  LIMIT_BAL  SEX  EDUCATION  ...  PAY_AMT4  PAY_AMT5  PAY_AMT6  def_pay\n",
              "0   1      20000    2          2  ...         0         0         0        1\n",
              "1   2     120000    2          2  ...      1000         0      2000        1\n",
              "2   3      90000    2          2  ...      1000      1000      5000        0\n",
              "3   4      50000    2          2  ...      1100      1069      1000        0\n",
              "4   5      50000    1          2  ...      9000       689       679        0\n",
              "\n",
              "[5 rows x 25 columns]"
            ]
          },
          "metadata": {
            "tags": []
          },
          "execution_count": 6
        }
      ]
    },
    {
      "cell_type": "code",
      "metadata": {
        "colab": {
          "base_uri": "https://localhost:8080/"
        },
        "id": "I3uFSETKOBAn",
        "outputId": "96b6451f-74b4-4c6b-a260-19689506c3d1"
      },
      "source": [
        "print('outcome label=0:' + str(len(df[df['def_pay']==0].values)/len(df)))\n",
        "print('outcome label=1:' + str(len(df[df['def_pay']==1].values)/len(df)))"
      ],
      "execution_count": 7,
      "outputs": [
        {
          "output_type": "stream",
          "text": [
            "outcome label=0:0.7788\n",
            "outcome label=1:0.2212\n"
          ],
          "name": "stdout"
        }
      ]
    },
    {
      "cell_type": "code",
      "metadata": {
        "pycharm": {
          "name": "#%%\n"
        },
        "id": "drwVpSV1NLNZ"
      },
      "source": [
        "df.head()\n",
        "df = shuffle(df, random_state=42)"
      ],
      "execution_count": 8,
      "outputs": []
    },
    {
      "cell_type": "markdown",
      "metadata": {
        "id": "dW3aHhAhJ2AH"
      },
      "source": [
        "# Fixed some columns"
      ]
    },
    {
      "cell_type": "code",
      "metadata": {
        "colab": {
          "base_uri": "https://localhost:8080/"
        },
        "id": "1vQY-1qFJg7g",
        "outputId": "7e6c2b0a-bb0d-4ba7-86e0-ed15496ec8f9"
      },
      "source": [
        "fil = (df.EDUCATION == 5) | (df.EDUCATION == 6) | (df.EDUCATION == 0)\n",
        "df.loc[fil, 'EDUCATION'] = 4\n",
        "df.EDUCATION.value_counts()"
      ],
      "execution_count": 9,
      "outputs": [
        {
          "output_type": "execute_result",
          "data": {
            "text/plain": [
              "2    14030\n",
              "1    10585\n",
              "3     4917\n",
              "4      468\n",
              "Name: EDUCATION, dtype: int64"
            ]
          },
          "metadata": {
            "tags": []
          },
          "execution_count": 9
        }
      ]
    },
    {
      "cell_type": "code",
      "metadata": {
        "colab": {
          "base_uri": "https://localhost:8080/"
        },
        "id": "0KNj5qM4J6bD",
        "outputId": "5a50a9e0-9222-43d1-e338-f7739c2f62b3"
      },
      "source": [
        "df.MARRIAGE.value_counts()"
      ],
      "execution_count": 10,
      "outputs": [
        {
          "output_type": "execute_result",
          "data": {
            "text/plain": [
              "2    15964\n",
              "1    13659\n",
              "3      323\n",
              "0       54\n",
              "Name: MARRIAGE, dtype: int64"
            ]
          },
          "metadata": {
            "tags": []
          },
          "execution_count": 10
        }
      ]
    },
    {
      "cell_type": "code",
      "metadata": {
        "colab": {
          "base_uri": "https://localhost:8080/"
        },
        "id": "0vduJEDyKFlK",
        "outputId": "b392fbb1-938d-40c3-e8a0-06ab0881792c"
      },
      "source": [
        "df.loc[df.MARRIAGE == 0, 'MARRIAGE'] = 3\n",
        "df.MARRIAGE.value_counts()"
      ],
      "execution_count": 11,
      "outputs": [
        {
          "output_type": "execute_result",
          "data": {
            "text/plain": [
              "2    15964\n",
              "1    13659\n",
              "3      377\n",
              "Name: MARRIAGE, dtype: int64"
            ]
          },
          "metadata": {
            "tags": []
          },
          "execution_count": 11
        }
      ]
    },
    {
      "cell_type": "code",
      "metadata": {
        "id": "ufIuGV6vKHvU"
      },
      "source": [
        "fil = (df.PAY_1 == -2) | (df.PAY_1 == -1) | (df.PAY_1 == 0)\n",
        "df.loc[fil, 'PAY_1'] = 0\n",
        "fil = (df.PAY_2 == -2) | (df.PAY_2 == -1) | (df.PAY_2 == 0)\n",
        "df.loc[fil, 'PAY_2'] = 0\n",
        "fil = (df.PAY_3 == -2) | (df.PAY_3 == -1) | (df.PAY_3 == 0)\n",
        "df.loc[fil, 'PAY_3'] = 0\n",
        "fil = (df.PAY_4 == -2) | (df.PAY_4 == -1) | (df.PAY_4 == 0)\n",
        "df.loc[fil, 'PAY_4'] = 0\n",
        "fil = (df.PAY_5 == -2) | (df.PAY_5 == -1) | (df.PAY_5 == 0)\n",
        "df.loc[fil, 'PAY_5'] = 0\n",
        "fil = (df.PAY_6 == -2) | (df.PAY_6 == -1) | (df.PAY_6 == 0)\n",
        "df.loc[fil, 'PAY_6'] = 0"
      ],
      "execution_count": 12,
      "outputs": []
    },
    {
      "cell_type": "code",
      "metadata": {
        "id": "mqPUxs6OM7o7"
      },
      "source": [
        "df['SE_MA'] = df.SEX * df.MARRIAGE\n",
        "df['SE_MA_2'] = 0\n",
        "df.loc[((df.SEX == 1) & (df.MARRIAGE == 1)) , 'SE_MA_2'] = 1 #married man\n",
        "df.loc[((df.SEX == 1) & (df.MARRIAGE == 2)) , 'SE_MA_2'] = 2 #single man\n",
        "df.loc[((df.SEX == 1) & (df.MARRIAGE == 3)) , 'SE_MA_2'] = 3 #divorced man\n",
        "df.loc[((df.SEX == 2) & (df.MARRIAGE == 1)) , 'SE_MA_2'] = 4 #married woman\n",
        "df.loc[((df.SEX == 2) & (df.MARRIAGE == 2)) , 'SE_MA_2'] = 5 #single woman\n",
        "df.loc[((df.SEX == 2) & (df.MARRIAGE == 3)) , 'SE_MA_2'] = 6 #divorced woman\n",
        "del df['SE_MA']\n",
        "df = df.rename(columns={'SE_MA_2': 'SE_MA'})"
      ],
      "execution_count": 13,
      "outputs": []
    },
    {
      "cell_type": "code",
      "metadata": {
        "colab": {
          "base_uri": "https://localhost:8080/",
          "height": 222
        },
        "id": "9aPtI0Q2NDtJ",
        "outputId": "a94b9551-ba83-49fc-c30e-2326db3cb21c"
      },
      "source": [
        "df.head()"
      ],
      "execution_count": 14,
      "outputs": [
        {
          "output_type": "execute_result",
          "data": {
            "text/html": [
              "<div>\n",
              "<style scoped>\n",
              "    .dataframe tbody tr th:only-of-type {\n",
              "        vertical-align: middle;\n",
              "    }\n",
              "\n",
              "    .dataframe tbody tr th {\n",
              "        vertical-align: top;\n",
              "    }\n",
              "\n",
              "    .dataframe thead th {\n",
              "        text-align: right;\n",
              "    }\n",
              "</style>\n",
              "<table border=\"1\" class=\"dataframe\">\n",
              "  <thead>\n",
              "    <tr style=\"text-align: right;\">\n",
              "      <th></th>\n",
              "      <th>ID</th>\n",
              "      <th>LIMIT_BAL</th>\n",
              "      <th>SEX</th>\n",
              "      <th>EDUCATION</th>\n",
              "      <th>MARRIAGE</th>\n",
              "      <th>AGE</th>\n",
              "      <th>PAY_1</th>\n",
              "      <th>PAY_2</th>\n",
              "      <th>PAY_3</th>\n",
              "      <th>PAY_4</th>\n",
              "      <th>PAY_5</th>\n",
              "      <th>PAY_6</th>\n",
              "      <th>BILL_AMT1</th>\n",
              "      <th>BILL_AMT2</th>\n",
              "      <th>BILL_AMT3</th>\n",
              "      <th>BILL_AMT4</th>\n",
              "      <th>BILL_AMT5</th>\n",
              "      <th>BILL_AMT6</th>\n",
              "      <th>PAY_AMT1</th>\n",
              "      <th>PAY_AMT2</th>\n",
              "      <th>PAY_AMT3</th>\n",
              "      <th>PAY_AMT4</th>\n",
              "      <th>PAY_AMT5</th>\n",
              "      <th>PAY_AMT6</th>\n",
              "      <th>def_pay</th>\n",
              "      <th>SE_MA</th>\n",
              "    </tr>\n",
              "  </thead>\n",
              "  <tbody>\n",
              "    <tr>\n",
              "      <th>2308</th>\n",
              "      <td>2309</td>\n",
              "      <td>30000</td>\n",
              "      <td>1</td>\n",
              "      <td>2</td>\n",
              "      <td>2</td>\n",
              "      <td>25</td>\n",
              "      <td>0</td>\n",
              "      <td>0</td>\n",
              "      <td>0</td>\n",
              "      <td>0</td>\n",
              "      <td>0</td>\n",
              "      <td>0</td>\n",
              "      <td>8864</td>\n",
              "      <td>10062</td>\n",
              "      <td>11581</td>\n",
              "      <td>12580</td>\n",
              "      <td>13716</td>\n",
              "      <td>14828</td>\n",
              "      <td>1500</td>\n",
              "      <td>2000</td>\n",
              "      <td>1500</td>\n",
              "      <td>1500</td>\n",
              "      <td>1500</td>\n",
              "      <td>2000</td>\n",
              "      <td>0</td>\n",
              "      <td>2</td>\n",
              "    </tr>\n",
              "    <tr>\n",
              "      <th>22404</th>\n",
              "      <td>22405</td>\n",
              "      <td>150000</td>\n",
              "      <td>2</td>\n",
              "      <td>1</td>\n",
              "      <td>2</td>\n",
              "      <td>26</td>\n",
              "      <td>0</td>\n",
              "      <td>0</td>\n",
              "      <td>0</td>\n",
              "      <td>0</td>\n",
              "      <td>0</td>\n",
              "      <td>0</td>\n",
              "      <td>136736</td>\n",
              "      <td>125651</td>\n",
              "      <td>116684</td>\n",
              "      <td>101581</td>\n",
              "      <td>77741</td>\n",
              "      <td>77264</td>\n",
              "      <td>4486</td>\n",
              "      <td>4235</td>\n",
              "      <td>3161</td>\n",
              "      <td>2647</td>\n",
              "      <td>2669</td>\n",
              "      <td>2669</td>\n",
              "      <td>0</td>\n",
              "      <td>5</td>\n",
              "    </tr>\n",
              "    <tr>\n",
              "      <th>23397</th>\n",
              "      <td>23398</td>\n",
              "      <td>70000</td>\n",
              "      <td>2</td>\n",
              "      <td>3</td>\n",
              "      <td>1</td>\n",
              "      <td>32</td>\n",
              "      <td>0</td>\n",
              "      <td>0</td>\n",
              "      <td>0</td>\n",
              "      <td>0</td>\n",
              "      <td>0</td>\n",
              "      <td>0</td>\n",
              "      <td>70122</td>\n",
              "      <td>69080</td>\n",
              "      <td>68530</td>\n",
              "      <td>69753</td>\n",
              "      <td>70111</td>\n",
              "      <td>70212</td>\n",
              "      <td>2431</td>\n",
              "      <td>3112</td>\n",
              "      <td>3000</td>\n",
              "      <td>2438</td>\n",
              "      <td>2500</td>\n",
              "      <td>2554</td>\n",
              "      <td>0</td>\n",
              "      <td>4</td>\n",
              "    </tr>\n",
              "    <tr>\n",
              "      <th>25058</th>\n",
              "      <td>25059</td>\n",
              "      <td>130000</td>\n",
              "      <td>1</td>\n",
              "      <td>3</td>\n",
              "      <td>2</td>\n",
              "      <td>49</td>\n",
              "      <td>0</td>\n",
              "      <td>0</td>\n",
              "      <td>0</td>\n",
              "      <td>0</td>\n",
              "      <td>0</td>\n",
              "      <td>0</td>\n",
              "      <td>20678</td>\n",
              "      <td>18956</td>\n",
              "      <td>16172</td>\n",
              "      <td>16898</td>\n",
              "      <td>11236</td>\n",
              "      <td>6944</td>\n",
              "      <td>1610</td>\n",
              "      <td>1808</td>\n",
              "      <td>7014</td>\n",
              "      <td>27</td>\n",
              "      <td>7011</td>\n",
              "      <td>4408</td>\n",
              "      <td>0</td>\n",
              "      <td>2</td>\n",
              "    </tr>\n",
              "    <tr>\n",
              "      <th>2664</th>\n",
              "      <td>2665</td>\n",
              "      <td>50000</td>\n",
              "      <td>2</td>\n",
              "      <td>2</td>\n",
              "      <td>2</td>\n",
              "      <td>36</td>\n",
              "      <td>0</td>\n",
              "      <td>0</td>\n",
              "      <td>0</td>\n",
              "      <td>0</td>\n",
              "      <td>0</td>\n",
              "      <td>2</td>\n",
              "      <td>94228</td>\n",
              "      <td>47635</td>\n",
              "      <td>42361</td>\n",
              "      <td>19574</td>\n",
              "      <td>20295</td>\n",
              "      <td>19439</td>\n",
              "      <td>2000</td>\n",
              "      <td>1500</td>\n",
              "      <td>1000</td>\n",
              "      <td>1800</td>\n",
              "      <td>0</td>\n",
              "      <td>1000</td>\n",
              "      <td>1</td>\n",
              "      <td>5</td>\n",
              "    </tr>\n",
              "  </tbody>\n",
              "</table>\n",
              "</div>"
            ],
            "text/plain": [
              "          ID  LIMIT_BAL  SEX  EDUCATION  ...  PAY_AMT5  PAY_AMT6  def_pay  SE_MA\n",
              "2308    2309      30000    1          2  ...      1500      2000        0      2\n",
              "22404  22405     150000    2          1  ...      2669      2669        0      5\n",
              "23397  23398      70000    2          3  ...      2500      2554        0      4\n",
              "25058  25059     130000    1          3  ...      7011      4408        0      2\n",
              "2664    2665      50000    2          2  ...         0      1000        1      5\n",
              "\n",
              "[5 rows x 26 columns]"
            ]
          },
          "metadata": {
            "tags": []
          },
          "execution_count": 14
        }
      ]
    },
    {
      "cell_type": "code",
      "metadata": {
        "colab": {
          "base_uri": "https://localhost:8080/",
          "height": 282
        },
        "id": "JNV-m9qtNHlD",
        "outputId": "e327d895-40f3-4434-e805-00a2309300b1"
      },
      "source": [
        "df['AgeBin'] = 0 #creates a column of 0\n",
        "df.loc[((df['AGE'] > 20) & (df['AGE'] < 30)) , 'AgeBin'] = 1\n",
        "df.loc[((df['AGE'] >= 30) & (df['AGE'] < 40)) , 'AgeBin'] = 2\n",
        "df.loc[((df['AGE'] >= 40) & (df['AGE'] < 50)) , 'AgeBin'] = 3\n",
        "df.loc[((df['AGE'] >= 50) & (df['AGE'] < 60)) , 'AgeBin'] = 4\n",
        "df.loc[((df['AGE'] >= 60) & (df['AGE'] < 70)) , 'AgeBin'] = 5\n",
        "df.loc[((df['AGE'] >= 70) & (df['AGE'] < 81)) , 'AgeBin'] = 6\n",
        "df.AgeBin.hist()"
      ],
      "execution_count": 15,
      "outputs": [
        {
          "output_type": "execute_result",
          "data": {
            "text/plain": [
              "<matplotlib.axes._subplots.AxesSubplot at 0x7ff0e2531fd0>"
            ]
          },
          "metadata": {
            "tags": []
          },
          "execution_count": 15
        },
        {
          "output_type": "display_data",
          "data": {
            "image/png": "[encoded data removed]",
            "text/plain": [
              "<Figure size 432x288 with 1 Axes>"
            ]
          },
          "metadata": {
            "tags": [],
            "needs_background": "light"
          }
        }
      ]
    },
    {
      "cell_type": "code",
      "metadata": {
        "colab": {
          "base_uri": "https://localhost:8080/",
          "height": 282
        },
        "id": "vQo_uO8ENOFd",
        "outputId": "ff7d5bdd-f832-45a4-8bd2-08796fe77dbe"
      },
      "source": [
        "df['AgeBin'] = pd.cut(df['AGE'], 6, labels = [1, 2, 3, 4, 5, 6])\n",
        "#because 1 2 3 ecc are \"categories\" so far and we need numbers\n",
        "df['AgeBin'] = pd.to_numeric(df['AgeBin'])\n",
        "df.loc[(df['AgeBin'] == 6) , 'AgeBin'] = 5\n",
        "df.AgeBin.hist()"
      ],
      "execution_count": 16,
      "outputs": [
        {
          "output_type": "execute_result",
          "data": {
            "text/plain": [
              "<matplotlib.axes._subplots.AxesSubplot at 0x7ff0e32b9a10>"
            ]
          },
          "metadata": {
            "tags": []
          },
          "execution_count": 16
        },
        {
          "output_type": "display_data",
          "data": {
            "image/png": "[encoded data removed]",
            "text/plain": [
              "<Figure size 432x288 with 1 Axes>"
            ]
          },
          "metadata": {
            "tags": [],
            "needs_background": "light"
          }
        }
      ]
    },
    {
      "cell_type": "code",
      "metadata": {
        "id": "tl5w9p-cNfkB"
      },
      "source": [
        "df['SE_AG'] = 0\n",
        "df.loc[((df.SEX == 1) & (df.AgeBin == 1)) , 'SE_AG'] = 1 # man in 20's\n",
        "df.loc[((df.SEX == 1) & (df.AgeBin == 2)) , 'SE_AG'] = 2 # man in 30's\n",
        "df.loc[((df.SEX == 1) & (df.AgeBin == 3)) , 'SE_AG'] = 3 # man in 40's\n",
        "df.loc[((df.SEX == 1) & (df.AgeBin == 4)) , 'SE_AG'] = 4 # man in 50's\n",
        "df.loc[((df.SEX == 1) & (df.AgeBin == 5)) , 'SE_AG'] = 5 # man in 60's and above\n",
        "df.loc[((df.SEX == 2) & (df.AgeBin == 1)) , 'SE_AG'] = 6 # woman in 20's\n",
        "df.loc[((df.SEX == 2) & (df.AgeBin == 2)) , 'SE_AG'] = 7 # woman in 30's\n",
        "df.loc[((df.SEX == 2) & (df.AgeBin == 3)) , 'SE_AG'] = 8 # woman in 40's\n",
        "df.loc[((df.SEX == 2) & (df.AgeBin == 4)) , 'SE_AG'] = 9 # woman in 50's\n",
        "df.loc[((df.SEX == 2) & (df.AgeBin == 5)) , 'SE_AG'] = 10 # woman in 60's and above"
      ],
      "execution_count": 17,
      "outputs": []
    },
    {
      "cell_type": "markdown",
      "metadata": {
        "id": "g-8AQpKGJd0b"
      },
      "source": [
        "# Preparing Datasets"
      ]
    },
    {
      "cell_type": "code",
      "metadata": {
        "id": "mcz754mSrGqI"
      },
      "source": [
        "import math\n",
        "\n",
        "cols_1 = ['AGE', 'SEX', 'EDUCATION', 'MARRIAGE']\n",
        "cols_2 = ['PAY_1', 'PAY_2', 'PAY_3',\n",
        "          'PAY_4', 'PAY_5', 'PAY_6']\n",
        "\n",
        "new_cols = []\n",
        "for i in cols_1:\n",
        "    for j in cols_2:\n",
        "        df[i+j] = np.sqrt(df[i]*df[j])\n",
        "        new_cols.append(i+j)"
      ],
      "execution_count": 18,
      "outputs": []
    },
    {
      "cell_type": "code",
      "metadata": {
        "id": "lm5aAFkzoGbU"
      },
      "source": [
        "for i in range(1,7):\n",
        "    for j in range(1, 7):\n",
        "        if i == j:\n",
        "            continue\n",
        "        df['PAY_' + str(i) + '_' + str(j)] = 0\n",
        "        df['PAY_' + str(i) + '_' + str(j)] = np.sqrt(df['PAY_' + str(i)]*df['PAY_' + str(j)])\n",
        "        new_cols.append('PAY_' + str(i) + '_' + str(j))\n",
        "\n",
        "df['PAY']  = np.sqrt(df['PAY_1']*df['PAY_2']*df['PAY_3']*df['PAY_4']*df['PAY_5']*df['PAY_6'])\n",
        "new_cols.append('PAY')"
      ],
      "execution_count": 19,
      "outputs": []
    },
    {
      "cell_type": "code",
      "metadata": {
        "pycharm": {
          "name": "#%%\n"
        },
        "id": "kiUbFubyNLNa"
      },
      "source": [
        "features = ['LIMIT_BAL', \n",
        "            # 'PAY_1','PAY_2', 'PAY_3', \n",
        "            # 'PAY_4', 'PAY_5', 'PAY_6',\n",
        "            'BILL_AMT1', 'BILL_AMT2',\n",
        "            'BILL_AMT3', 'BILL_AMT4',\n",
        "            'BILL_AMT5', 'BILL_AMT6',\n",
        "            'PAY_AMT1', 'PAY_AMT2', 'PAY_AMT3',\n",
        "            'PAY_AMT4', 'PAY_AMT5', 'PAY_AMT6', \n",
        "            # 'SE_MA', 'AgeBin', 'SE_AG'\n",
        "            ]\n",
        "features.extend(new_cols)\n",
        "cat_features = ['PAY_1', 'PAY_2', 'PAY_3',\n",
        "                'AGE', 'SEX', 'EDUCATION', 'MARRIAGE',\n",
        "                'PAY_4', 'PAY_5', 'PAY_6',\n",
        "                'SE_MA', 'AgeBin', 'SE_AG']\n",
        "y = df['def_pay'].values.copy() # target\n",
        "X = df[features].copy()\n",
        "X_cat = df[cat_features]\n",
        "\n",
        "X_non_cat = X[[f for f in features if f not in cat_features]].values\n",
        "X_cat = X_cat.values"
      ],
      "execution_count": 20,
      "outputs": []
    },
    {
      "cell_type": "code",
      "metadata": {
        "pycharm": {
          "name": "#%%\n"
        },
        "id": "-bLwz81gNLNb",
        "colab": {
          "base_uri": "https://localhost:8080/"
        },
        "outputId": "2e7a5e6a-b559-4e0d-f31b-c3fbd191c621"
      },
      "source": [
        "y.shape"
      ],
      "execution_count": 21,
      "outputs": [
        {
          "output_type": "execute_result",
          "data": {
            "text/plain": [
              "(30000,)"
            ]
          },
          "metadata": {
            "tags": []
          },
          "execution_count": 21
        }
      ]
    },
    {
      "cell_type": "code",
      "metadata": {
        "pycharm": {
          "name": "#%%\n"
        },
        "id": "RByoYYaGNLNc"
      },
      "source": [
        "# X_train, X_test, y_train, y_test = train_test_split(X, y, test_size=0.20,\n",
        "#                                                     random_state=42,\n",
        "#                                                     stratify=y)\n",
        "X_cat_train, X_cat_test, X_non_cat_train, X_non_cat_test, y_train, y_test = train_test_split(X_cat, X_non_cat, y, test_size=0.30,\n",
        "                                                                        random_state=42,\n",
        "                                                                        stratify=y)\n",
        "# X_train, X_test, y_train, y_test = train_test_split(X, y, test_size=0.3,\n",
        "#                                                     random_state=42,\n",
        "#                                                     stratify=y)"
      ],
      "execution_count": 22,
      "outputs": []
    },
    {
      "cell_type": "code",
      "metadata": {
        "id": "gqIMDHOjdtI3"
      },
      "source": [
        "from sklearn.preprocessing import MinMaxScaler, StandardScaler\n",
        "minmax = MinMaxScaler()\n",
        "minmax.fit(X_non_cat_train)\n",
        "X_non_cat_train = minmax.transform(X_non_cat_train)\n",
        "X_non_cat_test = minmax.transform(X_non_cat_test)"
      ],
      "execution_count": 23,
      "outputs": []
    },
    {
      "cell_type": "code",
      "metadata": {
        "id": "3vTiPaVbNPOv"
      },
      "source": [
        "X_train = np.concatenate([X_non_cat_train, X_cat_train], axis=1)\n",
        "X_test = np.concatenate([X_non_cat_test, X_cat_test], axis=1)"
      ],
      "execution_count": 24,
      "outputs": []
    },
    {
      "cell_type": "code",
      "metadata": {
        "colab": {
          "base_uri": "https://localhost:8080/"
        },
        "id": "XVvglD9RO7yu",
        "outputId": "4c07cc7a-f462-4270-f5d1-30bc6f76d265"
      },
      "source": [
        "from imblearn.over_sampling import SMOTE\n",
        "\n",
        "sm = SMOTE(random_state=42)\n",
        "X_SMOTE, y_SMOTE = sm.fit_sample(X_train, y_train)\n",
        "print(len(y_SMOTE))"
      ],
      "execution_count": 25,
      "outputs": [
        {
          "output_type": "stream",
          "text": [
            "/usr/local/lib/python3.7/dist-packages/sklearn/externals/six.py:31: FutureWarning: The module is deprecated in version 0.21 and will be removed in version 0.23 since we've dropped support for Python 2.7. Please rely on the official version of six (https://pypi.org/project/six/).\n",
            "  \"(https://pypi.org/project/six/).\", FutureWarning)\n",
            "/usr/local/lib/python3.7/dist-packages/sklearn/utils/deprecation.py:144: FutureWarning: The sklearn.neighbors.base module is  deprecated in version 0.22 and will be removed in version 0.24. The corresponding classes / functions should instead be imported from sklearn.neighbors. Anything that cannot be imported from sklearn.neighbors is now part of the private API.\n",
            "  warnings.warn(message, FutureWarning)\n",
            "/usr/local/lib/python3.7/dist-packages/sklearn/utils/deprecation.py:87: FutureWarning: Function safe_indexing is deprecated; safe_indexing is deprecated in version 0.22 and will be removed in version 0.24.\n",
            "  warnings.warn(msg, category=FutureWarning)\n"
          ],
          "name": "stderr"
        },
        {
          "output_type": "stream",
          "text": [
            "32710\n"
          ],
          "name": "stdout"
        }
      ]
    },
    {
      "cell_type": "code",
      "metadata": {
        "id": "vBsx-tVZPaad"
      },
      "source": [
        "X_train = X_SMOTE\n",
        "y_train = y_SMOTE"
      ],
      "execution_count": 26,
      "outputs": []
    },
    {
      "cell_type": "code",
      "metadata": {
        "colab": {
          "base_uri": "https://localhost:8080/"
        },
        "id": "IUzfbyedEEtq",
        "outputId": "34a78e6f-acb1-4573-a2e6-42816a827788"
      },
      "source": [
        "print(X_train.shape)\n",
        "print(y_train.shape)"
      ],
      "execution_count": 27,
      "outputs": [
        {
          "output_type": "stream",
          "text": [
            "(32710, 81)\n",
            "(32710,)\n"
          ],
          "name": "stdout"
        }
      ]
    },
    {
      "cell_type": "markdown",
      "metadata": {
        "id": "EnYerDTS9y8P"
      },
      "source": [
        "# Model tunning"
      ]
    },
    {
      "cell_type": "code",
      "metadata": {
        "id": "V03pZBRMkSKo"
      },
      "source": [
        "def search_for_best_models(clf, params, X_train, y_train, scoring='f1_weighted', cv=4):\n",
        "    optimal_models = RandomizedSearchCV(clf,\n",
        "                            param_distributions=params,\n",
        "                            cv=cv, n_jobs=-1,\n",
        "                            random_state=42,\n",
        "                            n_iter=10,\n",
        "                            scoring=scoring)\n",
        "    optimal_models.fit(X_train, y_train)\n",
        "\n",
        "    return (optimal_models.best_params_,\n",
        "            optimal_models.best_estimator_)\n"
      ],
      "execution_count": 28,
      "outputs": []
    },
    {
      "cell_type": "markdown",
      "metadata": {
        "id": "MA32Xh63jvAb"
      },
      "source": [
        "#Logistic Regression"
      ]
    },
    {
      "cell_type": "code",
      "metadata": {
        "id": "7l4bROak6ipC"
      },
      "source": [
        "params = {\"C\": np.logspace(-100, 100, 10000),\n",
        "          \"max_iter\": [200],\n",
        "          \"penalty\": [\"l2\", 'None'],\n",
        "          'solver': ['newton-cg', 'lbfgs', 'sag', 'saga'],\n",
        "      }"
      ],
      "execution_count": 29,
      "outputs": []
    },
    {
      "cell_type": "code",
      "metadata": {
        "id": "UomQooBgoQTw",
        "colab": {
          "base_uri": "https://localhost:8080/"
        },
        "outputId": "ba9d49a8-0f13-4866-d74a-ad0a14ff7662"
      },
      "source": [
        "optimal_params, optimal_models = search_for_best_models(LogisticRegression(),\n",
        "                                     params,\n",
        "                                     X_train,\n",
        "                                     y_train)"
      ],
      "execution_count": 30,
      "outputs": [
        {
          "output_type": "stream",
          "text": [
            "/usr/local/lib/python3.7/dist-packages/sklearn/linear_model/_sag.py:330: ConvergenceWarning: The max_iter was reached which means the coef_ did not converge\n",
            "  \"the coef_ did not converge\", ConvergenceWarning)\n"
          ],
          "name": "stderr"
        }
      ]
    },
    {
      "cell_type": "code",
      "metadata": {
        "id": "8XZr0u6wksi2"
      },
      "source": [
        "from sklearn.linear_model import LogisticRegression\n",
        "model = LogisticRegression(random_state=42, \n",
        "                         C=optimal_params['C'],\n",
        "                         penalty=optimal_params['penalty'],\n",
        "                         solver=optimal_params['solver'],\n",
        "                         fit_intercept=True,\n",
        "                         n_jobs=4)"
      ],
      "execution_count": 31,
      "outputs": []
    },
    {
      "cell_type": "code",
      "metadata": {
        "pycharm": {
          "name": "#%%\n"
        },
        "id": "RuSI0x_1NLNc",
        "colab": {
          "base_uri": "https://localhost:8080/"
        },
        "outputId": "67fa851c-244d-40ea-f434-001b6152a926"
      },
      "source": [
        "model.fit(X_train, y_train)"
      ],
      "execution_count": 32,
      "outputs": [
        {
          "output_type": "stream",
          "text": [
            "/usr/local/lib/python3.7/dist-packages/sklearn/linear_model/_sag.py:330: ConvergenceWarning: The max_iter was reached which means the coef_ did not converge\n",
            "  \"the coef_ did not converge\", ConvergenceWarning)\n"
          ],
          "name": "stderr"
        },
        {
          "output_type": "execute_result",
          "data": {
            "text/plain": [
              "LogisticRegression(C=537.3695175425777, class_weight=None, dual=False,\n",
              "                   fit_intercept=True, intercept_scaling=1, l1_ratio=None,\n",
              "                   max_iter=100, multi_class='auto', n_jobs=4, penalty='l2',\n",
              "                   random_state=42, solver='sag', tol=0.0001, verbose=0,\n",
              "                   warm_start=False)"
            ]
          },
          "metadata": {
            "tags": []
          },
          "execution_count": 32
        }
      ]
    },
    {
      "cell_type": "code",
      "metadata": {
        "colab": {
          "base_uri": "https://localhost:8080/"
        },
        "id": "2OiBsfeuBEhR",
        "outputId": "e78f15e3-65e5-40b9-e82d-375ba5990d6e"
      },
      "source": [
        "y_predict = model.predict(X_test)\n",
        "print(accuracy_score(y_test, y_predict))\n",
        "fpr, tpr, thresholds = roc_curve(y_test, y_predict)\n",
        "print(auc(fpr, tpr))\n",
        "print(f1_score(y_test, y_predict))\n",
        "confusion_matrix(y_test, y_predict)\n",
        "print(classification_report(y_test, y_predict))"
      ],
      "execution_count": 33,
      "outputs": [
        {
          "output_type": "stream",
          "text": [
            "0.7667777777777778\n",
            "0.7089464654004798\n",
            "0.534486582390774\n",
            "              precision    recall  f1-score   support\n",
            "\n",
            "           0       0.88      0.81      0.84      7009\n",
            "           1       0.48      0.61      0.53      1991\n",
            "\n",
            "    accuracy                           0.77      9000\n",
            "   macro avg       0.68      0.71      0.69      9000\n",
            "weighted avg       0.79      0.77      0.78      9000\n",
            "\n"
          ],
          "name": "stdout"
        }
      ]
    },
    {
      "cell_type": "code",
      "metadata": {
        "id": "ZV_VThLFD7DF",
        "colab": {
          "base_uri": "https://localhost:8080/"
        },
        "outputId": "f10ae4d9-892d-481c-b604-b2d7c2012ec6"
      },
      "source": [
        "for average in ['micro', 'macro','weighted', 'binary']:\n",
        "    print('average:' + average)\n",
        "    print(f1_score(y_test, y_predict, average=average))"
      ],
      "execution_count": 35,
      "outputs": [
        {
          "output_type": "stream",
          "text": [
            "average:micro\n",
            "0.7667777777777778\n",
            "average:macro\n",
            "0.6894506887196624\n",
            "average:weighted\n",
            "0.775851787115036\n",
            "average:binary\n",
            "0.534486582390774\n"
          ],
          "name": "stdout"
        }
      ]
    },
    {
      "cell_type": "markdown",
      "metadata": {
        "id": "HqNS6nu2kv_s"
      },
      "source": [
        "#Decision Tree"
      ]
    },
    {
      "cell_type": "code",
      "metadata": {
        "id": "tFKyORP1mNDn"
      },
      "source": [
        "params = {\"max_depth\": ['None', 2, 3, 5, 10, 15],\n",
        "        \"min_samples_split\": [2, 3, 5, 10],\n",
        "        \"min_samples_leaf\": [1, 2, 3, 5],\n",
        "        \"max_features\": ['auto', 'sqrt', 'None', 2, 4, 5, 9, 10, 15, 18]\n",
        "      }"
      ],
      "execution_count": 36,
      "outputs": []
    },
    {
      "cell_type": "code",
      "metadata": {
        "id": "7ijC2BRCmQ1N"
      },
      "source": [
        "optimal_params, optimal_models = search_for_best_models(DecisionTreeClassifier(),\n",
        "                                     params,\n",
        "                                     X_train,\n",
        "                                     y_train)"
      ],
      "execution_count": 37,
      "outputs": []
    },
    {
      "cell_type": "code",
      "metadata": {
        "pycharm": {
          "name": "#%%\n"
        },
        "id": "X5tZEVrkNLNd"
      },
      "source": [
        "model = DecisionTreeClassifier(max_depth=optimal_params['max_depth'],\n",
        "                               min_samples_split=optimal_params['min_samples_split'],\n",
        "                               min_samples_leaf=optimal_params['min_samples_leaf'],\n",
        "                               max_features=optimal_params['max_features'],\n",
        "                               random_state=42)"
      ],
      "execution_count": 38,
      "outputs": []
    },
    {
      "cell_type": "code",
      "metadata": {
        "colab": {
          "base_uri": "https://localhost:8080/"
        },
        "id": "PSoPl6kYnoKA",
        "outputId": "228821bf-51e9-4e03-c761-3122589bdea8"
      },
      "source": [
        "model.fit(X_train, y_train)"
      ],
      "execution_count": 39,
      "outputs": [
        {
          "output_type": "execute_result",
          "data": {
            "text/plain": [
              "DecisionTreeClassifier(ccp_alpha=0.0, class_weight=None, criterion='gini',\n",
              "                       max_depth=15, max_features=10, max_leaf_nodes=None,\n",
              "                       min_impurity_decrease=0.0, min_impurity_split=None,\n",
              "                       min_samples_leaf=3, min_samples_split=10,\n",
              "                       min_weight_fraction_leaf=0.0, presort='deprecated',\n",
              "                       random_state=42, splitter='best')"
            ]
          },
          "metadata": {
            "tags": []
          },
          "execution_count": 39
        }
      ]
    },
    {
      "cell_type": "code",
      "metadata": {
        "colab": {
          "base_uri": "https://localhost:8080/"
        },
        "id": "1BIYBmw7Tr8Q",
        "outputId": "3a0fee17-4bf2-4f0b-cc87-4d5a9acbdd4f"
      },
      "source": [
        "y_predict = model.predict(X_test)\n",
        "\n",
        "print('Accuracy Score is {:.5}'.format(accuracy_score(y_test, y_predict)))\n",
        "fpr, tpr, thresholds = roc_curve(y_test, y_predict)\n",
        "print(auc(fpr, tpr))\n",
        "print(f1_score(y_test, y_predict))\n",
        "print(pd.DataFrame(confusion_matrix(y_test,y_predict)))\n",
        "print(classification_report(y_test, y_predict))"
      ],
      "execution_count": 40,
      "outputs": [
        {
          "output_type": "stream",
          "text": [
            "Accuracy Score is 0.71167\n",
            "0.6413803978367772\n",
            "0.44157520981278237\n",
            "      0     1\n",
            "0  5379  1630\n",
            "1   965  1026\n",
            "              precision    recall  f1-score   support\n",
            "\n",
            "           0       0.85      0.77      0.81      7009\n",
            "           1       0.39      0.52      0.44      1991\n",
            "\n",
            "    accuracy                           0.71      9000\n",
            "   macro avg       0.62      0.64      0.62      9000\n",
            "weighted avg       0.75      0.71      0.73      9000\n",
            "\n"
          ],
          "name": "stdout"
        }
      ]
    },
    {
      "cell_type": "code",
      "metadata": {
        "colab": {
          "base_uri": "https://localhost:8080/"
        },
        "id": "CFQKsb_QEzhp",
        "outputId": "56459359-4be4-4763-f945-11cd431fe4a0"
      },
      "source": [
        "for average in ['micro', 'macro','weighted', 'binary']:\n",
        "    print('average:' + average)\n",
        "    print(f1_score(y_test, y_predict, average=average))"
      ],
      "execution_count": 41,
      "outputs": [
        {
          "output_type": "stream",
          "text": [
            "average:micro\n",
            "0.7116666666666667\n",
            "average:macro\n",
            "0.6236184294402038\n",
            "average:weighted\n",
            "0.7251176378946927\n",
            "average:binary\n",
            "0.44157520981278237\n"
          ],
          "name": "stdout"
        }
      ]
    },
    {
      "cell_type": "markdown",
      "metadata": {
        "id": "QvmZ_XTTn5jC"
      },
      "source": [
        "#RandomForest"
      ]
    },
    {
      "cell_type": "code",
      "metadata": {
        "id": "DT6ZNs2HoP4_"
      },
      "source": [
        "random.seed(42)\n",
        "np.random.seed(42)\n",
        "params = {\n",
        "    'n_estimators':[50, 100, 200,\n",
        "                    300, 500, 1000],\n",
        "    \"max_features\": ['auto', 'sqrt', 'None', 2, 4, 5, 9, 10, 15, 18],\n",
        "    'max_depth':[None, 2, 5, 8, 10],\n",
        "    'min_samples_split': [2, 3, 5],\n",
        "    'criterion': ['gini', 'entropy']\n",
        "}"
      ],
      "execution_count": 42,
      "outputs": []
    },
    {
      "cell_type": "code",
      "metadata": {
        "id": "zKSR_qGfpwcU"
      },
      "source": [
        "optimal_params, optimal_models = search_for_best_models(\n",
        "    clf=RandomForestClassifier(), params=params,\n",
        "    X_train=X_train, y_train=y_train)"
      ],
      "execution_count": 43,
      "outputs": []
    },
    {
      "cell_type": "code",
      "metadata": {
        "pycharm": {
          "name": "#%%\n"
        },
        "id": "wMtVmiYeNLNe"
      },
      "source": [
        "model = RandomForestClassifier(n_estimators=optimal_params['n_estimators'],\n",
        "                              max_depth=optimal_params['max_depth'],\n",
        "                              max_features=optimal_params['max_features'],\n",
        "                               min_samples_leaf=optimal_params['min_samples_split'],\n",
        "                               random_state=42)"
      ],
      "execution_count": 44,
      "outputs": []
    },
    {
      "cell_type": "code",
      "metadata": {
        "colab": {
          "base_uri": "https://localhost:8080/"
        },
        "id": "cz9YAT5sUOlC",
        "outputId": "3bcc17f9-8154-4f8f-f448-4acc1e9bd234"
      },
      "source": [
        "model.fit(X_train, y_train)"
      ],
      "execution_count": 45,
      "outputs": [
        {
          "output_type": "execute_result",
          "data": {
            "text/plain": [
              "RandomForestClassifier(bootstrap=True, ccp_alpha=0.0, class_weight=None,\n",
              "                       criterion='gini', max_depth=None, max_features=9,\n",
              "                       max_leaf_nodes=None, max_samples=None,\n",
              "                       min_impurity_decrease=0.0, min_impurity_split=None,\n",
              "                       min_samples_leaf=5, min_samples_split=2,\n",
              "                       min_weight_fraction_leaf=0.0, n_estimators=100,\n",
              "                       n_jobs=None, oob_score=False, random_state=42, verbose=0,\n",
              "                       warm_start=False)"
            ]
          },
          "metadata": {
            "tags": []
          },
          "execution_count": 45
        }
      ]
    },
    {
      "cell_type": "code",
      "metadata": {
        "colab": {
          "base_uri": "https://localhost:8080/"
        },
        "id": "9Az_fHqaUQpQ",
        "outputId": "0e380be8-448c-4a21-ccb7-c1ce10e618a4"
      },
      "source": [
        "y_predict = model.predict(X_test)\n",
        "\n",
        "print('Accuracy Score is {:.5}'.format(accuracy_score(y_test, y_predict)))\n",
        "fpr, tpr, thresholds = roc_curve(y_test, y_predict)\n",
        "print(auc(fpr, tpr))\n",
        "print(f1_score(y_test, y_predict))\n",
        "print(pd.DataFrame(confusion_matrix(y_test,y_predict)))\n",
        "print(classification_report(y_test, y_predict))"
      ],
      "execution_count": 46,
      "outputs": [
        {
          "output_type": "stream",
          "text": [
            "Accuracy Score is 0.80211\n",
            "0.6883014154363777\n",
            "0.5198166621730924\n",
            "      0    1\n",
            "0  6255  754\n",
            "1  1027  964\n",
            "              precision    recall  f1-score   support\n",
            "\n",
            "           0       0.86      0.89      0.88      7009\n",
            "           1       0.56      0.48      0.52      1991\n",
            "\n",
            "    accuracy                           0.80      9000\n",
            "   macro avg       0.71      0.69      0.70      9000\n",
            "weighted avg       0.79      0.80      0.80      9000\n",
            "\n"
          ],
          "name": "stdout"
        }
      ]
    },
    {
      "cell_type": "code",
      "metadata": {
        "colab": {
          "base_uri": "https://localhost:8080/"
        },
        "id": "F_d7HUgrE0Wj",
        "outputId": "472a0dce-2161-468d-b46d-3a375a789d37"
      },
      "source": [
        "for average in ['micro', 'macro','weighted', 'binary']:\n",
        "    print('average:' + average)\n",
        "    print(f1_score(y_test, y_predict, average=average))"
      ],
      "execution_count": 47,
      "outputs": [
        {
          "output_type": "stream",
          "text": [
            "average:micro\n",
            "0.8021111111111111\n",
            "average:macro\n",
            "0.697596386506041\n",
            "average:weighted\n",
            "0.7967184594730118\n",
            "average:binary\n",
            "0.5198166621730924\n"
          ],
          "name": "stdout"
        }
      ]
    },
    {
      "cell_type": "markdown",
      "metadata": {
        "id": "OrTnUrBaom7_"
      },
      "source": [
        "#SVM"
      ]
    },
    {
      "cell_type": "code",
      "metadata": {
        "id": "-OJJUaTec8m_"
      },
      "source": [
        "import scipy\n",
        "svm_params = {'C': scipy.stats.expon(scale=1.), \n",
        "          'gamma': scipy.stats.expon(scale=.1),\n",
        "          'kernel': ['rbf'], \n",
        "          'class_weight':[None]}"
      ],
      "execution_count": 48,
      "outputs": []
    },
    {
      "cell_type": "code",
      "metadata": {
        "id": "nSvRh4ET-vNQ",
        "colab": {
          "base_uri": "https://localhost:8080/"
        },
        "outputId": "1a4b7e98-0d83-49c5-c304-8632ceb37c37"
      },
      "source": [
        "optimal_params, optimal_models = search_for_best_models(SVC(), svm_params,\n",
        "                                                        X_train, y_train)"
      ],
      "execution_count": 49,
      "outputs": [
        {
          "output_type": "stream",
          "text": [
            "/usr/local/lib/python3.7/dist-packages/joblib/externals/loky/process_executor.py:691: UserWarning: A worker stopped while some jobs were given to the executor. This can be caused by a too short worker timeout or by a memory leak.\n",
            "  \"timeout or by a memory leak.\", UserWarning\n"
          ],
          "name": "stderr"
        }
      ]
    },
    {
      "cell_type": "code",
      "metadata": {
        "id": "E-GoVbBNrFoP"
      },
      "source": [
        "model = SVC(C=optimal_params['C'],\n",
        "          gamma=optimal_params['gamma'],\n",
        "          kernel=optimal_params['kernel'],\n",
        "          class_weight=optimal_params['class_weight'],\n",
        "          random_state=42)"
      ],
      "execution_count": 50,
      "outputs": []
    },
    {
      "cell_type": "code",
      "metadata": {
        "pycharm": {
          "name": "#%%\n"
        },
        "id": "FGWspoC-NLNf",
        "colab": {
          "base_uri": "https://localhost:8080/"
        },
        "outputId": "86a1c126-ba43-49b8-8564-5384ff57d8da"
      },
      "source": [
        "model.fit(X_train, y_train)\n",
        "y_predict = model.predict(X_test)\n",
        "print('Accuracy Score is {:.5}'.format(accuracy_score(y_test, y_predict)))\n",
        "fpr, tpr, thresholds = roc_curve(y_test, y_predict)\n",
        "print(auc(fpr, tpr))\n",
        "print(f1_score(y_test, y_predict))\n",
        "print(pd.DataFrame(confusion_matrix(y_test,y_predict)))\n",
        "print(classification_report(y_test, y_predict))"
      ],
      "execution_count": 51,
      "outputs": [
        {
          "output_type": "stream",
          "text": [
            "Accuracy Score is 0.76833\n",
            "0.6968202753452026\n",
            "0.5205794435502414\n",
            "      0     1\n",
            "0  5783  1226\n",
            "1   859  1132\n",
            "              precision    recall  f1-score   support\n",
            "\n",
            "           0       0.87      0.83      0.85      7009\n",
            "           1       0.48      0.57      0.52      1991\n",
            "\n",
            "    accuracy                           0.77      9000\n",
            "   macro avg       0.68      0.70      0.68      9000\n",
            "weighted avg       0.78      0.77      0.77      9000\n",
            "\n"
          ],
          "name": "stdout"
        }
      ]
    },
    {
      "cell_type": "code",
      "metadata": {
        "colab": {
          "base_uri": "https://localhost:8080/"
        },
        "id": "756nsNBJE2Ir",
        "outputId": "38dab796-16be-4ba3-f5ed-10aba3a2611c"
      },
      "source": [
        "for average in ['micro', 'macro','weighted', 'binary']:\n",
        "    print('average:' + average)\n",
        "    print(f1_score(y_test, y_predict, average=average))"
      ],
      "execution_count": 52,
      "outputs": [
        {
          "output_type": "stream",
          "text": [
            "average:micro\n",
            "0.7683333333333333\n",
            "average:macro\n",
            "0.6839216901290874\n",
            "average:weighted\n",
            "0.7749940671660485\n",
            "average:binary\n",
            "0.5205794435502414\n"
          ],
          "name": "stdout"
        }
      ]
    },
    {
      "cell_type": "markdown",
      "metadata": {
        "id": "hjg3-7V5Bo8v"
      },
      "source": [
        "# Extra Trees"
      ]
    },
    {
      "cell_type": "code",
      "metadata": {
        "id": "nk5zRvHhBxqq"
      },
      "source": [
        "from sklearn.ensemble import ExtraTreesClassifier\n",
        "random.seed(42)\n",
        "np.random.seed(42)\n",
        "params = {\n",
        "    'n_estimators':[50, 100, 200,\n",
        "                    300, 500, 1000],\n",
        "    \"max_features\": ['auto', 'sqrt', 'None', 2, 4, 5, 9, 10, 15, 18],\n",
        "    'max_depth':[None, 2, 5, 8, 10],\n",
        "    'min_samples_split': [2, 3, 5],\n",
        "    'criterion': ['gini', 'entropy']\n",
        "}"
      ],
      "execution_count": 53,
      "outputs": []
    },
    {
      "cell_type": "code",
      "metadata": {
        "id": "V7g942p4Bxqs"
      },
      "source": [
        "optimal_params, optimal_models = search_for_best_models(\n",
        "    clf=RandomForestClassifier(), params=params,\n",
        "    X_train=X_train, y_train=y_train)"
      ],
      "execution_count": 54,
      "outputs": []
    },
    {
      "cell_type": "code",
      "metadata": {
        "pycharm": {
          "name": "#%%\n"
        },
        "id": "04jZZ_VlBxqt"
      },
      "source": [
        "model = ExtraTreesClassifier(n_estimators=optimal_params['n_estimators'],\n",
        "                              max_depth=optimal_params['max_depth'],\n",
        "                              max_features=optimal_params['max_features'],\n",
        "                               min_samples_leaf=optimal_params['min_samples_split'],\n",
        "                               random_state=42)"
      ],
      "execution_count": 55,
      "outputs": []
    },
    {
      "cell_type": "code",
      "metadata": {
        "id": "S8Hj-NikBxqu",
        "colab": {
          "base_uri": "https://localhost:8080/"
        },
        "outputId": "8ac86c7c-0396-43f0-fbc1-6483227e55dc"
      },
      "source": [
        "model.fit(X_train, y_train)"
      ],
      "execution_count": 56,
      "outputs": [
        {
          "output_type": "execute_result",
          "data": {
            "text/plain": [
              "ExtraTreesClassifier(bootstrap=False, ccp_alpha=0.0, class_weight=None,\n",
              "                     criterion='gini', max_depth=None, max_features=15,\n",
              "                     max_leaf_nodes=None, max_samples=None,\n",
              "                     min_impurity_decrease=0.0, min_impurity_split=None,\n",
              "                     min_samples_leaf=2, min_samples_split=2,\n",
              "                     min_weight_fraction_leaf=0.0, n_estimators=50, n_jobs=None,\n",
              "                     oob_score=False, random_state=42, verbose=0,\n",
              "                     warm_start=False)"
            ]
          },
          "metadata": {
            "tags": []
          },
          "execution_count": 56
        }
      ]
    },
    {
      "cell_type": "code",
      "metadata": {
        "id": "E_zVpCkCBxqz",
        "colab": {
          "base_uri": "https://localhost:8080/"
        },
        "outputId": "aab4d5f5-7c02-4f7e-ab4a-de7341e1660c"
      },
      "source": [
        "y_predict = model.predict(X_test)\n",
        "\n",
        "print('Accuracy Score is {:.5}'.format(accuracy_score(y_test, y_predict)))\n",
        "fpr, tpr, thresholds = roc_curve(y_test, y_predict)\n",
        "print(auc(fpr, tpr))\n",
        "print(f1_score(y_test, y_predict))\n",
        "print(pd.DataFrame(confusion_matrix(y_test,y_predict)))\n",
        "print(classification_report(y_test, y_predict))"
      ],
      "execution_count": 57,
      "outputs": [
        {
          "output_type": "stream",
          "text": [
            "Accuracy Score is 0.79411\n",
            "0.664646459072962\n",
            "0.4816783216783217\n",
            "      0    1\n",
            "0  6286  723\n",
            "1  1130  861\n",
            "              precision    recall  f1-score   support\n",
            "\n",
            "           0       0.85      0.90      0.87      7009\n",
            "           1       0.54      0.43      0.48      1991\n",
            "\n",
            "    accuracy                           0.79      9000\n",
            "   macro avg       0.70      0.66      0.68      9000\n",
            "weighted avg       0.78      0.79      0.79      9000\n",
            "\n"
          ],
          "name": "stdout"
        }
      ]
    },
    {
      "cell_type": "code",
      "metadata": {
        "colab": {
          "base_uri": "https://localhost:8080/"
        },
        "id": "Dne2hAEJE5Uq",
        "outputId": "4f0e51f5-3533-45c7-b6cb-ed7d9fbfabf4"
      },
      "source": [
        "for average in ['micro', 'macro','weighted', 'binary']:\n",
        "    print('average:' + average)\n",
        "    print(f1_score(y_test, y_predict, average=average))"
      ],
      "execution_count": 58,
      "outputs": [
        {
          "output_type": "stream",
          "text": [
            "average:micro\n",
            "0.7941111111111111\n",
            "average:macro\n",
            "0.6766103913417605\n",
            "average:weighted\n",
            "0.7852958497385535\n",
            "average:binary\n",
            "0.4816783216783217\n"
          ],
          "name": "stdout"
        }
      ]
    },
    {
      "cell_type": "markdown",
      "metadata": {
        "id": "94j7zYyYPGkd"
      },
      "source": [
        "# Gradient Boosting"
      ]
    },
    {
      "cell_type": "code",
      "metadata": {
        "id": "kmPsedtbPJEh"
      },
      "source": [
        "np.random.seed(42)\n",
        "params = {\n",
        "    'loss': ['deviance', 'exponential'],\n",
        "    'learning_rate': [0.001, 0.01, 0.1, 0.5, 1., 2.],\n",
        "    'n_estimators':[50, 100, 200,\n",
        "                    300, 500, 1000],\n",
        "    \"max_features\": ['auto', 'sqrt', 'None', 2, 4, 5, 9, 10, 15, 18],\n",
        "    'max_depth':[None, 2, 5, 8, 10],\n",
        "    'min_samples_split': [2, 3, 5],\n",
        "    'criterion': ['friedman_mse', 'mse']\n",
        "}"
      ],
      "execution_count": 59,
      "outputs": []
    },
    {
      "cell_type": "code",
      "metadata": {
        "id": "xkDW2UWmPe3l"
      },
      "source": [
        "optimal_params, optimal_models = search_for_best_models(\n",
        "    clf=GradientBoostingClassifier(), params=params,\n",
        "    X_train=X_train, y_train=y_train)"
      ],
      "execution_count": 60,
      "outputs": []
    },
    {
      "cell_type": "code",
      "metadata": {
        "pycharm": {
          "name": "#%%\n"
        },
        "id": "gixQN-kkPe3m"
      },
      "source": [
        "model = GradientBoostingClassifier(n_estimators=optimal_params['n_estimators'],\n",
        "                        loss=optimal_params['loss'],\n",
        "                        learning_rate=optimal_params['learning_rate'],\n",
        "                        max_depth=optimal_params['max_depth'],\n",
        "                        max_features=optimal_params['max_features'],\n",
        "                        min_samples_leaf=optimal_params['min_samples_split'],\n",
        "                        random_state=42)"
      ],
      "execution_count": 61,
      "outputs": []
    },
    {
      "cell_type": "code",
      "metadata": {
        "id": "6DwomPk_Pe3o",
        "colab": {
          "base_uri": "https://localhost:8080/"
        },
        "outputId": "c39fb27c-6ca3-4618-9337-9245e731fcc0"
      },
      "source": [
        "model.fit(X_train, y_train)"
      ],
      "execution_count": 62,
      "outputs": [
        {
          "output_type": "execute_result",
          "data": {
            "text/plain": [
              "GradientBoostingClassifier(ccp_alpha=0.0, criterion='friedman_mse', init=None,\n",
              "                           learning_rate=0.1, loss='deviance', max_depth=None,\n",
              "                           max_features='sqrt', max_leaf_nodes=None,\n",
              "                           min_impurity_decrease=0.0, min_impurity_split=None,\n",
              "                           min_samples_leaf=2, min_samples_split=2,\n",
              "                           min_weight_fraction_leaf=0.0, n_estimators=1000,\n",
              "                           n_iter_no_change=None, presort='deprecated',\n",
              "                           random_state=42, subsample=1.0, tol=0.0001,\n",
              "                           validation_fraction=0.1, verbose=0,\n",
              "                           warm_start=False)"
            ]
          },
          "metadata": {
            "tags": []
          },
          "execution_count": 62
        }
      ]
    },
    {
      "cell_type": "code",
      "metadata": {
        "id": "x3mHNFrdPe3r",
        "colab": {
          "base_uri": "https://localhost:8080/"
        },
        "outputId": "f5f54694-20e9-4f5b-c0c7-c7ad8d3f8c23"
      },
      "source": [
        "y_predict = model.predict(X_test)\n",
        "print('Accuracy Score is {:.5}'.format(accuracy_score(y_test, y_predict)))\n",
        "fpr, tpr, thresholds = roc_curve(y_test, y_predict)\n",
        "print(auc(fpr, tpr))\n",
        "print(f1_score(y_test, y_predict))\n",
        "print(pd.DataFrame(confusion_matrix(y_test,y_predict)))\n",
        "print(classification_report(y_test, y_predict))"
      ],
      "execution_count": 63,
      "outputs": [
        {
          "output_type": "stream",
          "text": [
            "Accuracy Score is 0.80333\n",
            "0.668230105814301\n",
            "0.4893248701673399\n",
            "      0    1\n",
            "0  6382  627\n",
            "1  1143  848\n",
            "              precision    recall  f1-score   support\n",
            "\n",
            "           0       0.85      0.91      0.88      7009\n",
            "           1       0.57      0.43      0.49      1991\n",
            "\n",
            "    accuracy                           0.80      9000\n",
            "   macro avg       0.71      0.67      0.68      9000\n",
            "weighted avg       0.79      0.80      0.79      9000\n",
            "\n"
          ],
          "name": "stdout"
        }
      ]
    },
    {
      "cell_type": "code",
      "metadata": {
        "colab": {
          "base_uri": "https://localhost:8080/"
        },
        "id": "U19TF60WE8OY",
        "outputId": "1b77cd93-f359-4b94-8f80-4a3e6e64d1b3"
      },
      "source": [
        "for average in ['micro', 'macro','weighted', 'binary']:\n",
        "    print('average:' + average)\n",
        "    print(f1_score(y_test, y_predict, average=average))"
      ],
      "execution_count": 64,
      "outputs": [
        {
          "output_type": "stream",
          "text": [
            "average:micro\n",
            "0.8033333333333333\n",
            "average:macro\n",
            "0.6837707328681752\n",
            "average:weighted\n",
            "0.7921851038718187\n",
            "average:binary\n",
            "0.4893248701673399\n"
          ],
          "name": "stdout"
        }
      ]
    },
    {
      "cell_type": "markdown",
      "metadata": {
        "id": "8W9G0XzgpL6C"
      },
      "source": [
        "#XGBOOST"
      ]
    },
    {
      "cell_type": "code",
      "metadata": {
        "id": "g1s7P-nh6ZV7"
      },
      "source": [
        "param_grid = {\n",
        "     'max_depth': [2, 4, 5, 8, 12, 15],\n",
        "     'learning_rate': [0.001, 0.01, 0.1, 0.2],\n",
        "     'gamma': [0.01, 0.1, 0.25, 0.5],\n",
        "     'reg_lambda': [10.0, 20., 50., 100.],\n",
        "      'scale_pos_weight': [1]}"
      ],
      "execution_count": 78,
      "outputs": []
    },
    {
      "cell_type": "code",
      "metadata": {
        "id": "s31b2PHv1JRU"
      },
      "source": [
        "optimal_params = RandomizedSearchCV(\n",
        "    estimator=XGBClassifier(objective='binary:logistic', \n",
        "    seed=42, subsample=0.9,\n",
        "    colsample_bytree=0.5),\n",
        "    param_distributions=param_grid,\n",
        "    scoring='f1_weighted',\n",
        "    n_jobs=-1, cv=5)"
      ],
      "execution_count": 79,
      "outputs": []
    },
    {
      "cell_type": "code",
      "metadata": {
        "id": "L3EzYcOwpcP9",
        "colab": {
          "base_uri": "https://localhost:8080/"
        },
        "outputId": "815f561f-7556-4fc6-8d4b-f4c928491057"
      },
      "source": [
        "optimal_params.fit(X_train, y_train)"
      ],
      "execution_count": 67,
      "outputs": [
        {
          "output_type": "execute_result",
          "data": {
            "text/plain": [
              "RandomizedSearchCV(cv=5, error_score=nan,\n",
              "                   estimator=XGBClassifier(base_score=0.5, booster='gbtree',\n",
              "                                           colsample_bylevel=1,\n",
              "                                           colsample_bynode=1,\n",
              "                                           colsample_bytree=0.5, gamma=0,\n",
              "                                           learning_rate=0.1, max_delta_step=0,\n",
              "                                           max_depth=3, min_child_weight=1,\n",
              "                                           missing=None, n_estimators=100,\n",
              "                                           n_jobs=1, nthread=None,\n",
              "                                           objective='binary:logistic',\n",
              "                                           random_state=0, reg_alpha=0,\n",
              "                                           reg_lambda=1,...\n",
              "                                           seed=42, silent=None, subsample=0.9,\n",
              "                                           verbosity=1),\n",
              "                   iid='deprecated', n_iter=10, n_jobs=-1,\n",
              "                   param_distributions={'gamma': [0.01, 0.1, 0.25, 0.5],\n",
              "                                        'learning_rate': [0.001, 0.01, 0.1,\n",
              "                                                          0.2],\n",
              "                                        'max_depth': [2, 4, 5, 8, 12, 15],\n",
              "                                        'reg_lambda': [10.0, 20.0, 50.0, 100.0],\n",
              "                                        'scale_pos_weight': [1]},\n",
              "                   pre_dispatch='2*n_jobs', random_state=None, refit=True,\n",
              "                   return_train_score=False, scoring='f1_weighted', verbose=0)"
            ]
          },
          "metadata": {
            "tags": []
          },
          "execution_count": 67
        }
      ]
    },
    {
      "cell_type": "code",
      "metadata": {
        "id": "gHSX_1OW3GJw"
      },
      "source": [
        "params = optimal_params.best_params_"
      ],
      "execution_count": 68,
      "outputs": []
    },
    {
      "cell_type": "code",
      "metadata": {
        "id": "YtlIq7003e7W"
      },
      "source": [
        "model = XGBClassifier(objective='binary:logistic',\n",
        "                        gamma=params['gamma'],\n",
        "                        learn_rate=params['learning_rate'],\n",
        "                        max_depth=params['max_depth'],\n",
        "                        reg_lambda=params['reg_lambda'],\n",
        "                        scale_pos_weight=1,\n",
        "                        subsample=0.9,\n",
        "                        colsample_bytree=0.5,\n",
        "                        seed=42,\n",
        "                        n_jobs=4)"
      ],
      "execution_count": 69,
      "outputs": []
    },
    {
      "cell_type": "code",
      "metadata": {
        "pycharm": {
          "name": "#%%\n"
        },
        "id": "iDWKsVI1NLNf",
        "colab": {
          "base_uri": "https://localhost:8080/"
        },
        "outputId": "caed2079-4981-497d-f14b-f35408b8dd8f"
      },
      "source": [
        "model.fit(X_train, y_train)"
      ],
      "execution_count": 70,
      "outputs": [
        {
          "output_type": "execute_result",
          "data": {
            "text/plain": [
              "XGBClassifier(base_score=0.5, booster='gbtree', colsample_bylevel=1,\n",
              "              colsample_bynode=1, colsample_bytree=0.5, gamma=0.01,\n",
              "              learn_rate=0.1, learning_rate=0.1, max_delta_step=0, max_depth=15,\n",
              "              min_child_weight=1, missing=None, n_estimators=100, n_jobs=4,\n",
              "              nthread=None, objective='binary:logistic', random_state=0,\n",
              "              reg_alpha=0, reg_lambda=50.0, scale_pos_weight=1, seed=42,\n",
              "              silent=None, subsample=0.9, verbosity=1)"
            ]
          },
          "metadata": {
            "tags": []
          },
          "execution_count": 70
        }
      ]
    },
    {
      "cell_type": "code",
      "metadata": {
        "id": "iNm59MWbOqNZ",
        "colab": {
          "base_uri": "https://localhost:8080/"
        },
        "outputId": "b119836d-266c-4220-9e68-162ee8781805"
      },
      "source": [
        "y_predict = model.predict(X_test)\n",
        "print('Accuracy Score is {:.5}'.format(accuracy_score(y_test, y_predict)))\n",
        "fpr, tpr, thresholds = roc_curve(y_test, y_predict)\n",
        "print(auc(fpr, tpr))\n",
        "print(f1_score(y_test, y_predict))\n",
        "print(pd.DataFrame(confusion_matrix(y_test,y_predict)))\n",
        "print(classification_report(y_test, y_predict))"
      ],
      "execution_count": 71,
      "outputs": [
        {
          "output_type": "stream",
          "text": [
            "Accuracy Score is 0.80967\n",
            "0.6787688627931125\n",
            "0.5079000287273773\n",
            "      0    1\n",
            "0  6403  606\n",
            "1  1107  884\n",
            "              precision    recall  f1-score   support\n",
            "\n",
            "           0       0.85      0.91      0.88      7009\n",
            "           1       0.59      0.44      0.51      1991\n",
            "\n",
            "    accuracy                           0.81      9000\n",
            "   macro avg       0.72      0.68      0.69      9000\n",
            "weighted avg       0.80      0.81      0.80      9000\n",
            "\n"
          ],
          "name": "stdout"
        }
      ]
    },
    {
      "cell_type": "code",
      "metadata": {
        "colab": {
          "base_uri": "https://localhost:8080/"
        },
        "id": "6CLHHdJJE_Yn",
        "outputId": "e23d24cf-2f5f-44ef-fa79-66679425f508"
      },
      "source": [
        "for average in ['micro', 'macro','weighted', 'binary']:\n",
        "    print('average:' + average)\n",
        "    print(f1_score(y_test, y_predict, average=average))"
      ],
      "execution_count": 72,
      "outputs": [
        {
          "output_type": "stream",
          "text": [
            "average:micro\n",
            "0.8096666666666666\n",
            "average:macro\n",
            "0.6949583482709826\n",
            "average:weighted\n",
            "0.7992537535454061\n",
            "average:binary\n",
            "0.5079000287273773\n"
          ],
          "name": "stdout"
        }
      ]
    },
    {
      "cell_type": "markdown",
      "metadata": {
        "id": "Il9aeyKxtuSB"
      },
      "source": [
        "#Voting"
      ]
    },
    {
      "cell_type": "code",
      "metadata": {
        "id": "P6U-iHau9AN3"
      },
      "source": [
        "from sklearn.ensemble import VotingClassifier\n",
        "voting = VotingClassifier(\n",
        "    estimators=[('rf',\n",
        "                    RandomForestClassifier(bootstrap=True, ccp_alpha=0.0, class_weight=None,\n",
        "                       criterion='gini', max_depth=None, max_features=9,\n",
        "                       max_leaf_nodes=None, max_samples=None,\n",
        "                       min_impurity_decrease=0.0, min_impurity_split=None,\n",
        "                       min_samples_leaf=5, min_samples_split=2,\n",
        "                       min_weight_fraction_leaf=0.0, n_estimators=100,\n",
        "                       n_jobs=None, oob_score=False, random_state=42, verbose=0,\n",
        "                       warm_start=False)),\n",
        "                ('XGBoost', \n",
        "                        XGBClassifier(base_score=0.5, booster='gbtree', colsample_bylevel=1,\n",
        "                            colsample_bynode=1, colsample_bytree=0.5, gamma=0.01,\n",
        "                            learn_rate=0.1, learning_rate=0.1, max_delta_step=0, max_depth=15,\n",
        "                            min_child_weight=1, missing=None, n_estimators=100, n_jobs=4,\n",
        "                            nthread=None, objective='binary:logistic', random_state=0,\n",
        "                            reg_alpha=0, reg_lambda=50.0, scale_pos_weight=1, seed=42,\n",
        "                            silent=None, subsample=0.9, verbosity=1)),\n",
        "              ('lr',\n",
        "                    LogisticRegression(C=537.3695175425777, class_weight=None, dual=False,\n",
        "                        fit_intercept=True, intercept_scaling=1, l1_ratio=None,\n",
        "                        max_iter=100, multi_class='auto', n_jobs=4, penalty='l2',\n",
        "                        random_state=42, solver='sag', tol=0.0001, verbose=0,\n",
        "                        warm_start=False))\n",
        "                  ],\n",
        "                voting='soft',\n",
        "                weights=[2, 1, 1],\n",
        "                n_jobs=4\n",
        ")"
      ],
      "execution_count": 80,
      "outputs": []
    },
    {
      "cell_type": "code",
      "metadata": {
        "id": "YhUUrCEg9raU",
        "colab": {
          "base_uri": "https://localhost:8080/"
        },
        "outputId": "ce6b7b10-7fd1-4f14-9428-13d40e801a08"
      },
      "source": [
        "voting.fit(X_train, y_train)"
      ],
      "execution_count": 81,
      "outputs": [
        {
          "output_type": "execute_result",
          "data": {
            "text/plain": [
              "VotingClassifier(estimators=[('rf',\n",
              "                              RandomForestClassifier(bootstrap=True,\n",
              "                                                     ccp_alpha=0.0,\n",
              "                                                     class_weight=None,\n",
              "                                                     criterion='gini',\n",
              "                                                     max_depth=None,\n",
              "                                                     max_features=9,\n",
              "                                                     max_leaf_nodes=None,\n",
              "                                                     max_samples=None,\n",
              "                                                     min_impurity_decrease=0.0,\n",
              "                                                     min_impurity_split=None,\n",
              "                                                     min_samples_leaf=5,\n",
              "                                                     min_samples_split=2,\n",
              "                                                     min_weight_fraction_leaf=0.0,\n",
              "                                                     n_estimators=100,\n",
              "                                                     n_jobs=None,\n",
              "                                                     oob_score=Fals...\n",
              "                                            seed=42, silent=None, subsample=0.9,\n",
              "                                            verbosity=1)),\n",
              "                             ('lr',\n",
              "                              LogisticRegression(C=537.3695175425777,\n",
              "                                                 class_weight=None, dual=False,\n",
              "                                                 fit_intercept=True,\n",
              "                                                 intercept_scaling=1,\n",
              "                                                 l1_ratio=None, max_iter=100,\n",
              "                                                 multi_class='auto', n_jobs=4,\n",
              "                                                 penalty='l2', random_state=42,\n",
              "                                                 solver='sag', tol=0.0001,\n",
              "                                                 verbose=0,\n",
              "                                                 warm_start=False))],\n",
              "                 flatten_transform=True, n_jobs=4, voting='soft',\n",
              "                 weights=[2, 1, 1])"
            ]
          },
          "metadata": {
            "tags": []
          },
          "execution_count": 81
        }
      ]
    },
    {
      "cell_type": "code",
      "metadata": {
        "id": "MNa1Zag3BqeX",
        "colab": {
          "base_uri": "https://localhost:8080/"
        },
        "outputId": "a100c19a-f8b8-40c3-8c24-922ef8e09201"
      },
      "source": [
        "from sklearn.metrics import classification_report\n",
        "y_predict = voting.predict(X_test)\n",
        "print(classification_report(y_test, y_predict))\n"
      ],
      "execution_count": 82,
      "outputs": [
        {
          "output_type": "stream",
          "text": [
            "              precision    recall  f1-score   support\n",
            "\n",
            "           0       0.86      0.89      0.88      7009\n",
            "           1       0.57      0.51      0.54      1991\n",
            "\n",
            "    accuracy                           0.81      9000\n",
            "   macro avg       0.72      0.70      0.71      9000\n",
            "weighted avg       0.80      0.81      0.80      9000\n",
            "\n"
          ],
          "name": "stdout"
        }
      ]
    },
    {
      "cell_type": "code",
      "metadata": {
        "id": "4DSRwD2jdDxc",
        "colab": {
          "base_uri": "https://localhost:8080/"
        },
        "outputId": "e73d1a9d-6c98-4c5e-fba8-84edff749889"
      },
      "source": [
        "fpr, tpr, thresholds = roc_curve(y_test, y_predict)\n",
        "print(auc(fpr, tpr))\n",
        "print(f1_score(y_test, y_predict))\n",
        "print(pd.DataFrame(confusion_matrix(y_test,y_predict)))\n",
        "print(classification_report(y_test, y_predict))"
      ],
      "execution_count": 83,
      "outputs": [
        {
          "output_type": "stream",
          "text": [
            "0.6988889007524873\n",
            "0.5361317747077577\n",
            "      0     1\n",
            "0  6245   764\n",
            "1   982  1009\n",
            "              precision    recall  f1-score   support\n",
            "\n",
            "           0       0.86      0.89      0.88      7009\n",
            "           1       0.57      0.51      0.54      1991\n",
            "\n",
            "    accuracy                           0.81      9000\n",
            "   macro avg       0.72      0.70      0.71      9000\n",
            "weighted avg       0.80      0.81      0.80      9000\n",
            "\n"
          ],
          "name": "stdout"
        }
      ]
    },
    {
      "cell_type": "code",
      "metadata": {
        "colab": {
          "base_uri": "https://localhost:8080/"
        },
        "id": "h6c02q3gFCxD",
        "outputId": "c0d581fa-2a8c-48a2-8caa-ea0baddd1510"
      },
      "source": [
        "for average in ['micro', 'macro','weighted', 'binary']:\n",
        "    print('average:' + average)\n",
        "    print(f1_score(y_test, y_predict, average=average))"
      ],
      "execution_count": 84,
      "outputs": [
        {
          "output_type": "stream",
          "text": [
            "average:micro\n",
            "0.806\n",
            "average:macro\n",
            "0.7067424819029096\n",
            "average:weighted\n",
            "0.8018674295368285\n",
            "average:binary\n",
            "0.5361317747077577\n"
          ],
          "name": "stdout"
        }
      ]
    }
  ]
}